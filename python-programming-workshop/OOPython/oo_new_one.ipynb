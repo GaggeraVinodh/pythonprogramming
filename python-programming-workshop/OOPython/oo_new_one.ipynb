{
 "cells": [
  {
   "cell_type": "code",
   "execution_count": 1,
   "metadata": {
    "ExecuteTime": {
     "end_time": "2020-08-14T06:32:37.907124Z",
     "start_time": "2020-08-14T06:32:37.893134Z"
    }
   },
   "outputs": [
    {
     "name": "stdout",
     "output_type": "stream",
     "text": [
      "<__main__.MyFirstClass object at 0x7f8a55b1cf60>\n",
      "<__main__.MyFirstClass object at 0x7f8a55b1cf28>\n"
     ]
    }
   ],
   "source": [
    "class MyFirstClass:\n",
    "    pass\n",
    "\n",
    "obj1 = MyFirstClass()\n",
    "obj2 = MyFirstClass()\n",
    "\n",
    "print(obj1)\n",
    "print(obj2)\n"
   ]
  },
  {
   "cell_type": "code",
   "execution_count": 2,
   "metadata": {
    "ExecuteTime": {
     "end_time": "2020-08-14T06:34:10.434368Z",
     "start_time": "2020-08-14T06:34:10.422374Z"
    }
   },
   "outputs": [
    {
     "name": "stdout",
     "output_type": "stream",
     "text": [
      "5 4\n",
      "3 6\n"
     ]
    }
   ],
   "source": [
    "\n",
    "# what is the class here?  - Point\n",
    "# what is the object here? - p1, p2\n",
    "\n",
    "# what are the variables here? x,y\n",
    "\n",
    "# what is . dot notation? p1.x ? - x variable belonging to \n",
    "#                                  p1 class\n",
    "#                         p2.y ? - y variable belonging to \n",
    "#                                  p2 class\n",
    "\n",
    "class Point:\n",
    "    pass\n",
    "\n",
    "p1 = Point()\n",
    "p2 = Point()\n",
    "\n",
    "p1.x = 5\n",
    "p1.y = 4\n",
    "\n",
    "p2.x = 3\n",
    "p2.y = 6\n",
    "\n",
    "print(p1.x, p1.y)\n",
    "print(p2.x, p2.y)\n"
   ]
  },
  {
   "cell_type": "code",
   "execution_count": 4,
   "metadata": {
    "ExecuteTime": {
     "end_time": "2020-08-14T06:36:02.113266Z",
     "start_time": "2020-08-14T06:36:02.099276Z"
    }
   },
   "outputs": [
    {
     "name": "stdout",
     "output_type": "stream",
     "text": [
      "savings\n",
      "10000\n"
     ]
    }
   ],
   "source": [
    "\n",
    "#dunder method - magic method\n",
    "class BankBalance:\n",
    "    def __init__(self, acctype, amount):    # Constructor of the class\n",
    "        self.acctype = acctype\n",
    "        self.amount = amount\n",
    "\n",
    "a = BankBalance('savings', 10000)\n",
    "\n",
    "print(a.acctype)\n",
    "print(a.amount)\n"
   ]
  },
  {
   "cell_type": "code",
   "execution_count": 5,
   "metadata": {
    "ExecuteTime": {
     "end_time": "2020-08-14T06:41:39.334052Z",
     "start_time": "2020-08-14T06:41:39.310063Z"
    }
   },
   "outputs": [
    {
     "name": "stdout",
     "output_type": "stream",
     "text": [
      "Marge Simpson\n",
      "Homer Simpson\n",
      "Homer Simpson, 1007\n"
     ]
    }
   ],
   "source": [
    "\n",
    "# this program demonstrates how the derived class and \n",
    "# the base class work with each other and the syntax\n",
    "# for inheritance in python\n",
    "\n",
    "class Person:\n",
    "\n",
    "    def __init__(self, first, last):\n",
    "        self.firstname = first\n",
    "        self.lastname = last\n",
    "\n",
    "    def Name(self):\n",
    "        return self.firstname + \" \" + self.lastname\n",
    "\n",
    "class Employee(Person):\n",
    "\n",
    "    def __init__(self, first, last, staffnum):\n",
    "        Person.__init__(self, first, last)\n",
    "        self.staffnumber = staffnum\n",
    "\n",
    "    def GetEmployee(self):\n",
    "        return self.Name() + \", \" +  self.staffnumber\n",
    "\n",
    "xobj = Person(\"Marge\", \"Simpson\")\n",
    "yobj = Employee(\"Homer\", \"Simpson\", \"1007\")\n",
    "\n",
    "print(xobj.Name())\n",
    "print(yobj.Name())\n",
    "print(yobj.GetEmployee())\n"
   ]
  },
  {
   "cell_type": "code",
   "execution_count": 7,
   "metadata": {
    "ExecuteTime": {
     "end_time": "2020-08-14T06:51:35.366078Z",
     "start_time": "2020-08-14T06:51:35.349087Z"
    }
   },
   "outputs": [
    {
     "name": "stdout",
     "output_type": "stream",
     "text": [
      "Length:  80\n",
      "Breadth:  50\n",
      "Area:  4000\n"
     ]
    }
   ],
   "source": [
    "# program to illustrate protected\n",
    "# data members in a class\n",
    "\n",
    "# super class\n",
    "class Shape:\n",
    "      \n",
    "    # constructor\n",
    "    def __init__(self, length, breadth):\n",
    "        self._length = length\n",
    "        self._breadth = breadth\n",
    "          \n",
    "    # public member function\n",
    "    def displaySides(self):\n",
    "  \n",
    "        # accessing protected data members\n",
    "        print(\"Length: \", self._length)\n",
    "        print(\"Breadth: \", self._breadth)\n",
    "  \n",
    "  \n",
    "# derived class\n",
    "class Rectangle(Shape):\n",
    "  \n",
    "    # constructor\n",
    "    def __init__(self, length, breadth):\n",
    "  \n",
    "        # Calling the constructor of\n",
    "        # Super class\n",
    "        Shape.__init__(self, length, breadth)\n",
    "          \n",
    "    # public member function\n",
    "    def calculateArea(self):\n",
    "                      \n",
    "        # accessing protected data members of super class\n",
    "        print(\"Area: \", self._length * self._breadth)\n",
    "                      \n",
    "  \n",
    "# creating objects of the\n",
    "# derived class\n",
    "obj = Rectangle(80, 50)\n",
    "  \n",
    "# calling derived member\n",
    "# functions of the class\n",
    "obj.displaySides()\n",
    "  \n",
    "# calling public member\n",
    "# functions of the class\n",
    "obj.calculateArea()  \n"
   ]
  },
  {
   "cell_type": "code",
   "execution_count": 9,
   "metadata": {
    "ExecuteTime": {
     "end_time": "2020-08-14T07:00:58.304810Z",
     "start_time": "2020-08-14T07:00:58.290818Z"
    }
   },
   "outputs": [
    {
     "name": "stdout",
     "output_type": "stream",
     "text": [
      "Public method\n",
      "\n",
      "Inside derived class\n",
      "Private method\n",
      "10\n",
      "Private method\n"
     ]
    }
   ],
   "source": [
    "\n",
    "# Python program to\n",
    "# demonstrate private methods\n",
    "  \n",
    "# Creating a Base class\n",
    "class Base:\n",
    " \n",
    "    _myvar = 10\n",
    "    # Declaring public method\n",
    "    def fun(self):\n",
    "        print(\"Public method\")\n",
    "  \n",
    "    # Declaring private method\n",
    "    def _fun(self):\n",
    "        print(\"Private method\")\n",
    "  \n",
    "# Creating a derived class\n",
    "\n",
    "class Derived(Base):\n",
    "    def __init__(self):\n",
    "          \n",
    "        # Calling constructor of\n",
    "        # Base class\n",
    "        Base.__init__(self)\n",
    "          \n",
    "    def call_public(self):\n",
    "          \n",
    "        # Calling public method of base class\n",
    "        print(\"\\nInside derived class\")\n",
    "        self._fun()\n",
    "          \n",
    "    def call_private(self):\n",
    "        print(self._myvar)  \n",
    "        # Calling private method of base class\n",
    "        self._fun()\n",
    "  \n",
    "# Driver code\n",
    "obj1 = Base()\n",
    "  \n",
    "# Calling public method\n",
    "obj1.fun()\n",
    "  \n",
    "obj2 = Derived()\n",
    "obj2.call_public()\n",
    "obj2.call_private()\n",
    "  \n",
    "# Uncommenting obj1.__fun() will\n",
    "# raise an AttributeError\n",
    "  \n",
    "# Uncommenting obj2.call_private()\n",
    "# will also raise an AttributeError\n"
   ]
  },
  {
   "cell_type": "code",
   "execution_count": 12,
   "metadata": {
    "ExecuteTime": {
     "end_time": "2020-08-14T07:06:15.730130Z",
     "start_time": "2020-08-14T07:06:15.716139Z"
    }
   },
   "outputs": [
    {
     "name": "stdout",
     "output_type": "stream",
     "text": [
      "cse\n",
      "cse\n",
      "Karthik\n",
      "MeghaDharshini\n",
      "1\n",
      "2\n",
      "cse\n"
     ]
    }
   ],
   "source": [
    "# Python program to show that the variables with a value\n",
    "# assigned in class declaration, are class variables\n",
    "  \n",
    "# Class for a Computer Science Student\n",
    "class CSStudent:\n",
    "    stream = 'cse'                  # Class Variable\n",
    "    def __init__(self,name,roll):\n",
    "        self.name = name            # Instance Variable\n",
    "        self.roll = roll            # Instance Variable\n",
    "  \n",
    "# Objects of CSStudent class\n",
    "a = CSStudent('Karthik', 1)\n",
    "b = CSStudent('MeghaDharshini', 2)\n",
    "  \n",
    "print(a.stream)  # prints \"cse\"\n",
    "print(b.stream)  # prints \"cse\"\n",
    "print(a.name)    # prints \"Karthik\"\n",
    "print(b.name)    # prints \"MeghaDharshini\"\n",
    "print(a.roll)    # prints \"1\"\n",
    "print(b.roll)    # prints \"2\"\n",
    "  \n",
    "# Class variables can be accessed using class\n",
    "# name also\n",
    "print(CSStudent.stream) # prints \"cse\" \n"
   ]
  },
  {
   "cell_type": "code",
   "execution_count": null,
   "metadata": {
    "ExecuteTime": {
     "end_time": "2020-08-14T07:07:22.950879Z",
     "start_time": "2020-08-14T07:07:22.934894Z"
    }
   },
   "outputs": [],
   "source": []
  },
  {
   "cell_type": "code",
   "execution_count": 14,
   "metadata": {
    "ExecuteTime": {
     "end_time": "2020-08-14T07:08:33.199881Z",
     "start_time": "2020-08-14T07:08:33.187889Z"
    }
   },
   "outputs": [
    {
     "name": "stdout",
     "output_type": "stream",
     "text": [
      "Equal\n"
     ]
    }
   ],
   "source": [
    "class Dates:\n",
    "    def __init__(self, date):\n",
    "        self.date = date\n",
    "        \n",
    "    def getDate(self):\n",
    "        return self.date\n",
    "\n",
    "    @staticmethod\n",
    "    def slash_to_dash(date):\n",
    "        return date.replace(\"/\", \"-\")\n",
    "\n",
    "\n",
    "date = Dates(\"15-12-2016\")\n",
    "dateFromDB = \"15/12/2016\"\n",
    "dateWithDash = Dates.slash_to_dash(dateFromDB)\n",
    "\n",
    "if(date.getDate() == dateWithDash):\n",
    "    print(\"Equal\")\n",
    "else:\n",
    "    print(\"Unequal\")\n"
   ]
  },
  {
   "cell_type": "code",
   "execution_count": null,
   "metadata": {},
   "outputs": [],
   "source": []
  }
 ],
 "metadata": {
  "kernelspec": {
   "display_name": "Python 3",
   "language": "python",
   "name": "python3"
  },
  "language_info": {
   "codemirror_mode": {
    "name": "ipython",
    "version": 3
   },
   "file_extension": ".py",
   "mimetype": "text/x-python",
   "name": "python",
   "nbconvert_exporter": "python",
   "pygments_lexer": "ipython3",
   "version": "3.6.8"
  }
 },
 "nbformat": 4,
 "nbformat_minor": 2
}
