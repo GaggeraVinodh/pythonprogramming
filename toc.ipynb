{
 "cells": [
  {
   "cell_type": "markdown",
   "metadata": {},
   "source": [
    "# What will you learn and benefit in this 6 hours of session ?\n",
    "# Solving problems for the interview \n",
    "# most often asked questions in the interview\n",
    "# solving at least 50 to 70 easy and medium problems both\n",
    "# in a normal way and as a one-line solution\n",
    "# Learning concepts while doing that\n",
    "# Learning while doing / programming method\n",
    "# List, dictionary, tuple and set\n",
    "# List comprehension\n",
    "# input and output statements\n",
    "# built in functions such as input(), print(), format(), map(), reduce()\n",
    "# built in functions such as round(), range(), list(), tuple(), dict(), set()\n",
    "# built in functions such as sum(), prod(), list functions, dictionary functions\n",
    "# built in functions such as strip(), split() and join()\n",
    "# functions and logic building to solve problems quickly\n",
    "# programming and python tips and tricks to solve problems quickly\n",
    "# using libraries such as pandas, statistics, matplotlib, math, collections\n",
    "# using libraries such as functools and itertools\n",
    "# object oriented programming\n",
    "# most often asked questions in the interview"
   ]
  },
  {
   "cell_type": "code",
   "execution_count": null,
   "metadata": {},
   "outputs": [],
   "source": []
  }
 ],
 "metadata": {
  "kernelspec": {
   "display_name": "Python 3",
   "language": "python",
   "name": "python3"
  },
  "language_info": {
   "codemirror_mode": {
    "name": "ipython",
    "version": 3
   },
   "file_extension": ".py",
   "mimetype": "text/x-python",
   "name": "python",
   "nbconvert_exporter": "python",
   "pygments_lexer": "ipython3",
   "version": "3.8.5"
  }
 },
 "nbformat": 4,
 "nbformat_minor": 4
}
