{
 "cells": [
  {
   "cell_type": "code",
   "execution_count": null,
   "id": "7b41e313",
   "metadata": {},
   "outputs": [],
   "source": [
    "def newfunc(x):\n",
    "    return x*x\n",
    "\n",
    "print(map(newfunc,[2,4,6,8,10,12]))\n",
    "expr = list(map(newfunc,[2,4,6,8,10,12]))\n",
    "print(expr)"
   ]
  },
  {
   "cell_type": "code",
   "execution_count": null,
   "id": "7d02f11b",
   "metadata": {},
   "outputs": [],
   "source": [
    "expr = list(map(lambda x: x*x, [2,4,6,8,10,12]))\n",
    "print(expr)"
   ]
  },
  {
   "cell_type": "code",
   "execution_count": null,
   "id": "871d19b9",
   "metadata": {},
   "outputs": [],
   "source": [
    "expr = list(map(int,input().strip().split()))\n",
    "print(expr)"
   ]
  },
  {
   "cell_type": "code",
   "execution_count": null,
   "id": "d1eb8f1b",
   "metadata": {},
   "outputs": [],
   "source": [
    "def newfunc(x):\n",
    "    return x%2==0\n",
    "\n",
    "print(filter(newfunc,range(1,51)))\n",
    "expr = list(filter(newfunc,range(1,51)))\n",
    "print(expr)                 "
   ]
  },
  {
   "cell_type": "code",
   "execution_count": null,
   "id": "c2eccb6e",
   "metadata": {},
   "outputs": [],
   "source": [
    "def newfunc(x):\n",
    "    return x%2==0\n",
    "\n",
    "print(filter(None,range(1,51)))\n",
    "expr = list(filter(None,range(1,51)))\n",
    "print(expr) "
   ]
  },
  {
   "cell_type": "code",
   "execution_count": 3,
   "id": "6fee0e17",
   "metadata": {},
   "outputs": [
    {
     "name": "stdout",
     "output_type": "stream",
     "text": [
      "[9, 18, 27, 36, 45]\n"
     ]
    }
   ],
   "source": [
    "mult3 = filter(lambda x: x % 9 == 0, range(1,51))\n",
    "print(list(mult3)) "
   ]
  },
  {
   "cell_type": "code",
   "execution_count": null,
   "id": "760a7ed8",
   "metadata": {},
   "outputs": [],
   "source": [
    "mult3 = filter(None,[35,False,0,\"0\",True])\n",
    "print(list(mult3))"
   ]
  },
  {
   "cell_type": "code",
   "execution_count": null,
   "id": "1f11f075",
   "metadata": {},
   "outputs": [],
   "source": [
    "mult3 = filter(None,[1,2,3,4,5])\n",
    "print(list(mult3))"
   ]
  },
  {
   "cell_type": "code",
   "execution_count": null,
   "id": "98c73d5f",
   "metadata": {},
   "outputs": [],
   "source": [
    "import functools\n",
    "newexpr = functools.reduce(lambda x, y: x+y, [5, 2, 3, 4, 5], 10)\n",
    "print(newexpr)"
   ]
  },
  {
   "cell_type": "code",
   "execution_count": null,
   "id": "f5b75c38",
   "metadata": {},
   "outputs": [],
   "source": [
    "import functools\n",
    "newexpr = functools.reduce(lambda x, y: x*y, [1, 2, 3, 4, 5], 2)\n",
    "print(newexpr)"
   ]
  },
  {
   "cell_type": "code",
   "execution_count": null,
   "id": "6340e15b",
   "metadata": {},
   "outputs": [],
   "source": [
    "import functools\n",
    "newexpr = functools.reduce(lambda x, y: x+y, [1, 2, 3, 4, 5], 100)\n",
    "print(newexpr)"
   ]
  },
  {
   "cell_type": "code",
   "execution_count": null,
   "id": "b7b7434f",
   "metadata": {},
   "outputs": [],
   "source": [
    "import functools\n",
    "\n",
    "def newfunc(x,y):\n",
    "    return x+y\n",
    "\n",
    "newexpr = functools.reduce(newfunc, [1, 2, 3, 4, 5])\n",
    "print(newexpr)"
   ]
  }
 ],
 "metadata": {
  "kernelspec": {
   "display_name": "Python 3 (ipykernel)",
   "language": "python",
   "name": "python3"
  },
  "language_info": {
   "codemirror_mode": {
    "name": "ipython",
    "version": 3
   },
   "file_extension": ".py",
   "mimetype": "text/x-python",
   "name": "python",
   "nbconvert_exporter": "python",
   "pygments_lexer": "ipython3",
   "version": "3.10.9"
  }
 },
 "nbformat": 4,
 "nbformat_minor": 5
}
