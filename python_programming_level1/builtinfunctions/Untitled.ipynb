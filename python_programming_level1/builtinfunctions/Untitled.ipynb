{
 "cells": [
  {
   "cell_type": "code",
   "execution_count": 2,
   "id": "f007c331",
   "metadata": {},
   "outputs": [
    {
     "name": "stdout",
     "output_type": "stream",
     "text": [
      "[4, 16, 36, 64, 100, 144]\n"
     ]
    }
   ],
   "source": [
    "def newfunc(x):\n",
    "    return x*x\n",
    "\n",
    "expr = list(map(newfunc,[2,4,6,8,10,12]))\n",
    "print(expr)"
   ]
  },
  {
   "cell_type": "code",
   "execution_count": 13,
   "id": "0f78c02e",
   "metadata": {},
   "outputs": [
    {
     "name": "stdout",
     "output_type": "stream",
     "text": [
      "[4, 16, 36, 64, 100, 144]\n"
     ]
    }
   ],
   "source": [
    "expr = list(map(lambda x: x*x, [2,4,6,8,10,12]))\n",
    "print(expr)"
   ]
  },
  {
   "cell_type": "code",
   "execution_count": 28,
   "id": "9fb638d2",
   "metadata": {},
   "outputs": [
    {
     "name": "stdout",
     "output_type": "stream",
     "text": [
      "3 4 5\n",
      "[3, 4, 5]\n"
     ]
    }
   ],
   "source": [
    "expr = list(map(int,input().strip().split()))\n",
    "print(expr)"
   ]
  },
  {
   "cell_type": "code",
   "execution_count": 16,
   "id": "324e97d2",
   "metadata": {},
   "outputs": [
    {
     "name": "stdout",
     "output_type": "stream",
     "text": [
      "[3, 6, 9, 12, 15, 18, 21, 24, 27, 30, 33, 36, 39, 42, 45, 48]\n"
     ]
    }
   ],
   "source": [
    "def newfunc(x):\n",
    "    return x%3==0\n",
    "        \n",
    "expr = list(filter(newfunc,range(1,51)))\n",
    "print(expr)"
   ]
  },
  {
   "cell_type": "code",
   "execution_count": 15,
   "id": "109cdad8",
   "metadata": {},
   "outputs": [
    {
     "name": "stdout",
     "output_type": "stream",
     "text": [
      "[3, 6, 9, 12, 15, 18, 21, 24, 27, 30, 33, 36, 39, 42, 45, 48]\n"
     ]
    }
   ],
   "source": [
    "mult3 = filter(lambda x: x % 3 == 0, range(1,51))\n",
    "print(list(mult3))"
   ]
  },
  {
   "cell_type": "code",
   "execution_count": 35,
   "id": "0e7cccb4",
   "metadata": {},
   "outputs": [
    {
     "name": "stdout",
     "output_type": "stream",
     "text": [
      "[35, '0', True]\n"
     ]
    }
   ],
   "source": [
    "\n",
    "mult3 = filter(None,[35,False,0,\"0\",True])\n",
    "print(list(mult3))"
   ]
  },
  {
   "cell_type": "code",
   "execution_count": 24,
   "id": "5ee78b65",
   "metadata": {},
   "outputs": [
    {
     "name": "stdout",
     "output_type": "stream",
     "text": [
      "15\n"
     ]
    }
   ],
   "source": [
    "import functools\n",
    "newexpr = functools.reduce(lambda x, y: x+y, [1, 2, 3, 4, 5])\n",
    "print(newexpr)"
   ]
  },
  {
   "cell_type": "code",
   "execution_count": 25,
   "id": "d28dd4c4",
   "metadata": {},
   "outputs": [
    {
     "name": "stdout",
     "output_type": "stream",
     "text": [
      "17\n"
     ]
    }
   ],
   "source": [
    "import functools\n",
    "newexpr = functools.reduce(lambda x, y: x+y, [1, 2, 3, 4, 5],2)\n",
    "print(newexpr)"
   ]
  },
  {
   "cell_type": "code",
   "execution_count": 21,
   "id": "3bc216a1",
   "metadata": {},
   "outputs": [
    {
     "name": "stdout",
     "output_type": "stream",
     "text": [
      "15\n"
     ]
    }
   ],
   "source": [
    "import functools\n",
    "\n",
    "def newfunc(x,y):\n",
    "    return x+y\n",
    "\n",
    "newexpr = functools.reduce(newfunc, [1, 2, 3, 4, 5])\n",
    "print(newexpr)"
   ]
  },
  {
   "cell_type": "code",
   "execution_count": null,
   "id": "6b9fd4b5",
   "metadata": {},
   "outputs": [],
   "source": []
  }
 ],
 "metadata": {
  "kernelspec": {
   "display_name": "Python 3 (ipykernel)",
   "language": "python",
   "name": "python3"
  },
  "language_info": {
   "codemirror_mode": {
    "name": "ipython",
    "version": 3
   },
   "file_extension": ".py",
   "mimetype": "text/x-python",
   "name": "python",
   "nbconvert_exporter": "python",
   "pygments_lexer": "ipython3",
   "version": "3.9.7"
  }
 },
 "nbformat": 4,
 "nbformat_minor": 5
}
