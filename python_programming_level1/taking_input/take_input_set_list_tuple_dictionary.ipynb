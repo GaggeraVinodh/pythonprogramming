{
 "cells": [
  {
   "cell_type": "code",
   "execution_count": 1,
   "metadata": {},
   "outputs": [
    {
     "name": "stdout",
     "output_type": "stream",
     "text": [
      "45 56 6\n",
      "[45, 56, 6]\n",
      "35.666666666666664\n"
     ]
    }
   ],
   "source": [
    "mystring = list(map(int,input().strip().split()))\n",
    "print(mystring)\n",
    "print(sum(mystring)/len(mystring))"
   ]
  },
  {
   "cell_type": "code",
   "execution_count": 3,
   "metadata": {},
   "outputs": [
    {
     "name": "stdout",
     "output_type": "stream",
     "text": [
      "34 45\n",
      "34 45\n"
     ]
    }
   ],
   "source": [
    "x = input()\n",
    "print(x)"
   ]
  },
  {
   "cell_type": "code",
   "execution_count": 8,
   "metadata": {},
   "outputs": [
    {
     "name": "stdout",
     "output_type": "stream",
     "text": [
      "33 77\n",
      "['33', '77']\n"
     ]
    }
   ],
   "source": [
    "mystring = list(input().strip().split())\n",
    "print(mystring)"
   ]
  },
  {
   "cell_type": "code",
   "execution_count": 3,
   "metadata": {},
   "outputs": [
    {
     "name": "stdout",
     "output_type": "stream",
     "text": [
      "34,56,77\n",
      "['34,56,77']\n"
     ]
    }
   ],
   "source": [
    "mystring = list(input().split())\n",
    "print(mystring)"
   ]
  },
  {
   "cell_type": "code",
   "execution_count": 9,
   "metadata": {},
   "outputs": [
    {
     "name": "stdout",
     "output_type": "stream",
     "text": [
      "23 56 76\n",
      "{56, 76, 23}\n"
     ]
    }
   ],
   "source": [
    "mystring = set(map(int,input().split()))\n",
    "print(mystring)"
   ]
  },
  {
   "cell_type": "code",
   "execution_count": 7,
   "metadata": {},
   "outputs": [
    {
     "name": "stdout",
     "output_type": "stream",
     "text": [
      "45 67 89\n",
      "{89, 67, 45}\n"
     ]
    }
   ],
   "source": [
    "mystring = set(map(int,input().split()))\n",
    "print(mystring)"
   ]
  },
  {
   "cell_type": "code",
   "execution_count": null,
   "metadata": {},
   "outputs": [],
   "source": [
    "x, y, z = 34, 56, 78\n",
    "print(x,y,z)"
   ]
  },
  {
   "cell_type": "code",
   "execution_count": 10,
   "metadata": {},
   "outputs": [
    {
     "name": "stdout",
     "output_type": "stream",
     "text": [
      "67 4 56 11 34\n",
      "(67, 4, 56, 11, 34)\n"
     ]
    }
   ],
   "source": [
    "mystring = tuple(map(int,input().split()))\n",
    "print(mystring)"
   ]
  },
  {
   "cell_type": "code",
   "execution_count": 7,
   "metadata": {},
   "outputs": [
    {
     "name": "stdout",
     "output_type": "stream",
     "text": [
      "45 56\n",
      "(45, 56)\n"
     ]
    }
   ],
   "source": [
    "print(tuple(map(int,input().split())))"
   ]
  },
  {
   "cell_type": "code",
   "execution_count": 11,
   "metadata": {},
   "outputs": [
    {
     "name": "stdout",
     "output_type": "stream",
     "text": [
      "3\n",
      "Delhi 4567\n",
      "Newyork 3345\n",
      "Calcutta 1267\n",
      "[['Delhi', '4567'], ['Newyork', '3345'], ['Calcutta', '1267']]\n",
      "{'Delhi': '4567', 'Newyork': '3345', 'Calcutta': '1267'}\n"
     ]
    }
   ],
   "source": [
    "# 2\n",
    "# Guru 78\n",
    "# Badri 34\n",
    "n = int(input())\n",
    "name_numbers = [input().split() for _ in range(n)]\n",
    "print(name_numbers)\n",
    "phone_book = {k:v for k,v in name_numbers}\n",
    "print(phone_book)"
   ]
  },
  {
   "cell_type": "code",
   "execution_count": 6,
   "metadata": {},
   "outputs": [
    {
     "name": "stdout",
     "output_type": "stream",
     "text": [
      "Success Success Success "
     ]
    }
   ],
   "source": [
    "for _ in range(3):\n",
    "    print(\"Success\", end = \" \")"
   ]
  },
  {
   "cell_type": "code",
   "execution_count": 12,
   "metadata": {},
   "outputs": [
    {
     "name": "stdout",
     "output_type": "stream",
     "text": [
      "Enter number of elements in the list : 5\n",
      "Enter element No-1: \n",
      "1\n",
      "Enter element No-2: \n",
      "2\n",
      "Enter element No-3: \n",
      "3\n",
      "Enter element No-4: \n",
      "4\n",
      "Enter element No-5: \n",
      "5\n",
      "The entered list is: \n",
      " [1, 2, 3, 4, 5]\n"
     ]
    }
   ],
   "source": [
    "listA = []\n",
    "# Input number of elemetns\n",
    "n = int(input(\"Enter number of elements in the list : \"))\n",
    "# iterating till the range\n",
    "for i in range(0, n):\n",
    "   print(\"Enter element No-{}: \".format(i+1))\n",
    "   elm = int(input())\n",
    "   listA.append(elm) # adding the element\n",
    "print(\"The entered list is: \\n\",listA)"
   ]
  },
  {
   "cell_type": "code",
   "execution_count": 5,
   "metadata": {},
   "outputs": [
    {
     "name": "stdout",
     "output_type": "stream",
     "text": [
      "Enter number of elements in the list : 3\n",
      "Enter element No-1: \n",
      "2\n",
      "Enter element No-2: \n",
      "1\n",
      "Enter element No-3: \n",
      "3\n",
      "The entered set is: \n",
      " {1, 2, 3}\n"
     ]
    }
   ],
   "source": [
    "setA = set([])\n",
    "# Input number of elemetns\n",
    "n = int(input(\"Enter number of elements in the list : \"))\n",
    "# iterating till the range\n",
    "for i in range(0, n):\n",
    "   print(\"Enter element No-{}: \".format(i+1))\n",
    "   elm = int(input())\n",
    "   setA.add(elm) # adding the element\n",
    "print(\"The entered set is: \\n\",setA)"
   ]
  },
  {
   "cell_type": "code",
   "execution_count": null,
   "metadata": {},
   "outputs": [],
   "source": [
    "# 5\n",
    "# 10 40 30 50 20\n",
    "# 1 2 3 4 5\n",
    "# 32.0\n",
    "# Enter your code here. Read input from STDIN. Print output to STDOUT\n",
    "\n",
    "val = int(input())\n",
    "arraylist = list(map(int,input().split()))\n",
    "weightlist = list(map(int,input().split()))\n",
    "mysum = 0\n",
    "for i in range(val): \n",
    "    mysum = mysum + (arraylist[i] * weightlist[i])\n",
    "print(round(mysum/sum(weightlist),1))\n"
   ]
  },
  {
   "cell_type": "code",
   "execution_count": 4,
   "metadata": {},
   "outputs": [
    {
     "name": "stdout",
     "output_type": "stream",
     "text": [
      "raghu guru ram\n",
      "('raghu', 'guru', 'ram')\n"
     ]
    }
   ],
   "source": [
    "mystring = tuple(map(str,input().split()))\n",
    "print(mystring)"
   ]
  },
  {
   "cell_type": "code",
   "execution_count": 20,
   "metadata": {},
   "outputs": [
    {
     "name": "stdout",
     "output_type": "stream",
     "text": [
      "2 3 5 7 11 13 17 19 23 29 31 37 41 43 47 53 59 61 67 71 73 79 83 89 97 101 103 107 109 113 127 131 137 139 149 151 157 163 167 173 179 181 191 193 197 199 211 223 227 229 233 239 241 251 257 263 269 271 277 281 283 293 307 311 313 317 331 337 347 349 353 359 367 373 379 383 389 397 401 409 419 421 431 433 439 443 449 457 461 463 467 479 487 491 499 503 509 521 523 541 547 557 563 569 571 577 587 593 599 601 607 613 617 619 631 641 643 647 653 659 661 673 677 683 691 701 709 719 727 733 739 743 751 757 761 769 773 787 797 809 811 821 823 827 829 839 853 857 859 863 877 881 883 887 907 911 919 929 937 941 947 953 967 971 977 983 991 997 "
     ]
    }
   ],
   "source": [
    "#Big(O) notation\n",
    "import math\n",
    "for val in range(2,1001):\n",
    "    flag = 0\n",
    "    for num in range(2,int(math.sqrt(val)+1)):\n",
    "        if val % num == 0:\n",
    "            flag = 1\n",
    "            break\n",
    "    else:\n",
    "        print(val,end = \" \")"
   ]
  },
  {
   "cell_type": "code",
   "execution_count": 22,
   "metadata": {},
   "outputs": [],
   "source": [
    "# 57 172 86 43 130 65 196 98 49 148 74 37 112 56 28 14 7 22 11 34 17 52 26 13 40 20 10 5 16 8 4 2 1"
   ]
  },
  {
   "cell_type": "code",
   "execution_count": 25,
   "metadata": {},
   "outputs": [
    {
     "name": "stdout",
     "output_type": "stream",
     "text": [
      "Give a number57\n",
      "57 172 86 43 130 65 196 98 49 148 74 37 112 56 28 14 7 22 11 34 17 52 26 13 40 20 10 5 16 8 4 2 1 "
     ]
    }
   ],
   "source": [
    "val = int(input(\"Give a number\"))\n",
    "print(val,end=\" \")\n",
    "while(1):\n",
    "    if val % 2 == 0:\n",
    "        val = val // 2\n",
    "        print(val,end=\" \")\n",
    "    else:\n",
    "        val = (val * 3) + 1\n",
    "        print(val, end=\" \")  \n",
    "    if val == 1:\n",
    "        break"
   ]
  },
  {
   "cell_type": "code",
   "execution_count": 28,
   "metadata": {},
   "outputs": [
    {
     "name": "stdout",
     "output_type": "stream",
     "text": [
      "Give a number16\n",
      "16 8 4 2 1 "
     ]
    }
   ],
   "source": [
    "val = int(input(\"Give a number\"))\n",
    "print(val,end=\" \")\n",
    "while(val!=1):\n",
    "    if val % 2 == 0:\n",
    "        val = val // 2\n",
    "        print(val,end=\" \")\n",
    "    else:\n",
    "        val = (val * 3) + 1\n",
    "        print(val, end=\" \")  "
   ]
  },
  {
   "cell_type": "code",
   "execution_count": null,
   "metadata": {},
   "outputs": [],
   "source": []
  }
 ],
 "metadata": {
  "kernelspec": {
   "display_name": "Python 3 (ipykernel)",
   "language": "python",
   "name": "python3"
  },
  "language_info": {
   "codemirror_mode": {
    "name": "ipython",
    "version": 3
   },
   "file_extension": ".py",
   "mimetype": "text/x-python",
   "name": "python",
   "nbconvert_exporter": "python",
   "pygments_lexer": "ipython3",
   "version": "3.9.7"
  }
 },
 "nbformat": 4,
 "nbformat_minor": 4
}
