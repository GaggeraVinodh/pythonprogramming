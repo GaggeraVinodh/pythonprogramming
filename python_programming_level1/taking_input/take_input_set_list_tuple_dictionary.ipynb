{
 "cells": [
  {
   "cell_type": "code",
   "execution_count": 10,
   "metadata": {},
   "outputs": [
    {
     "name": "stdout",
     "output_type": "stream",
     "text": [
      "Give a value 56\n",
      "56\n",
      "<class 'str'>\n"
     ]
    }
   ],
   "source": [
    "val = input(\"Give a value \")\n",
    "print(val)\n",
    "print(type(val))"
   ]
  },
  {
   "cell_type": "code",
   "execution_count": 11,
   "metadata": {},
   "outputs": [
    {
     "name": "stdout",
     "output_type": "stream",
     "text": [
      "Give a value 45\n",
      "45\n",
      "<class 'int'>\n"
     ]
    }
   ],
   "source": [
    "val = int(input(\"Give a value \"))\n",
    "print(val)\n",
    "print(type(val))"
   ]
  },
  {
   "cell_type": "code",
   "execution_count": 12,
   "metadata": {},
   "outputs": [
    {
     "name": "stdout",
     "output_type": "stream",
     "text": [
      "Give a value 56.67\n",
      "56.67\n",
      "<class 'float'>\n"
     ]
    }
   ],
   "source": [
    "val = float(input(\"Give a value \"))\n",
    "print(val)\n",
    "print(type(val))"
   ]
  },
  {
   "cell_type": "code",
   "execution_count": 16,
   "metadata": {},
   "outputs": [
    {
     "name": "stdout",
     "output_type": "stream",
     "text": [
      "Give a value -98\n",
      "True\n",
      "<class 'bool'>\n"
     ]
    }
   ],
   "source": [
    "val = bool(input(\"Give a value \"))\n",
    "print(val)\n",
    "print(type(val))"
   ]
  },
  {
   "cell_type": "code",
   "execution_count": 20,
   "metadata": {},
   "outputs": [
    {
     "name": "stdout",
     "output_type": "stream",
     "text": [
      "Give a char f\n",
      "f\n",
      "<class 'str'>\n"
     ]
    }
   ],
   "source": [
    "newchar = input(\"Give a char \")\n",
    "print(newchar)\n",
    "print(type(newchar))"
   ]
  },
  {
   "cell_type": "code",
   "execution_count": 2,
   "metadata": {},
   "outputs": [
    {
     "name": "stdout",
     "output_type": "stream",
     "text": [
      "10 20 45 99\n",
      "['10', '20', '45', '99']\n",
      "<class 'list'>\n"
     ]
    }
   ],
   "source": [
    "# take input as numbers but as a list of strings\n",
    "mystring = list(input().strip().split())\n",
    "print(mystring)\n",
    "print(type(mystring))"
   ]
  },
  {
   "cell_type": "code",
   "execution_count": 12,
   "metadata": {},
   "outputs": [
    {
     "name": "stdout",
     "output_type": "stream",
     "text": [
      "10 20 45 99\n",
      "['10', '20', '45', '99']\n"
     ]
    }
   ],
   "source": [
    "# take input as string but to a list without trimming\n",
    "mystring = list(input().split())\n",
    "print(mystring)"
   ]
  },
  {
   "cell_type": "code",
   "execution_count": 1,
   "metadata": {},
   "outputs": [
    {
     "name": "stdout",
     "output_type": "stream",
     "text": [
      "45 67 77 45\n",
      "[45.0, 67.0, 77.0, 45.0]\n",
      "58.5\n"
     ]
    }
   ],
   "source": [
    "#   45 67 77 45\n",
    "# take input as a list of numbers after trimming and splitting\n",
    "mystring = list(map(float,input().strip().split()))\n",
    "print(mystring)\n",
    "print(sum(mystring)/len(mystring))"
   ]
  },
  {
   "cell_type": "code",
   "execution_count": 13,
   "metadata": {},
   "outputs": [
    {
     "name": "stdout",
     "output_type": "stream",
     "text": [
      "10 20 45 99\n",
      "{10, 99, 20, 45}\n"
     ]
    }
   ],
   "source": [
    "# taking input as numbers to a set\n",
    "mystring = set(map(int,input().split()))\n",
    "print(mystring)"
   ]
  },
  {
   "cell_type": "code",
   "execution_count": 3,
   "metadata": {},
   "outputs": [
    {
     "name": "stdout",
     "output_type": "stream",
     "text": [
      "10 20 45 99\n",
      "(10, 20, 45, 99)\n"
     ]
    }
   ],
   "source": [
    "# taking input as strings to a set\n",
    "mystring = tuple(map(int,input().split()))\n",
    "print(mystring)"
   ]
  },
  {
   "cell_type": "code",
   "execution_count": 5,
   "metadata": {},
   "outputs": [
    {
     "name": "stdout",
     "output_type": "stream",
     "text": [
      "(34, 56, 78)\n",
      "<class 'tuple'>\n"
     ]
    }
   ],
   "source": [
    "x = 34, 56, 78\n",
    "print(x)\n",
    "print(type(x))"
   ]
  },
  {
   "cell_type": "code",
   "execution_count": 15,
   "metadata": {},
   "outputs": [
    {
     "name": "stdout",
     "output_type": "stream",
     "text": [
      "10 20 45 99\n",
      "(10, 20, 45, 99)\n"
     ]
    }
   ],
   "source": [
    "# taking input as numbers to a tuple\n",
    "mystring = tuple(map(int,input().split()))\n",
    "print(mystring)"
   ]
  },
  {
   "cell_type": "code",
   "execution_count": null,
   "metadata": {},
   "outputs": [],
   "source": [
    "# taking input as strings and printing to a tuple in one line\n",
    "# Ravi Meenakshi Sheela\n",
    "print(tuple(input().strip().split()))"
   ]
  },
  {
   "cell_type": "code",
   "execution_count": 17,
   "metadata": {},
   "outputs": [
    {
     "name": "stdout",
     "output_type": "stream",
     "text": [
      "2\n",
      "Mohammad 91\n",
      "Reshma 93\n",
      "{'Mohammad': '91', 'Reshma': '93'}\n"
     ]
    }
   ],
   "source": [
    "# 2\n",
    "# Guru 78\n",
    "# Badri 34\n",
    "n = int(input())\n",
    "#name_numbers = [input().split() for _ in range(n)]\n",
    "#print(name_numbers)\n",
    "phone_book = {k:v for k,v in [input().split() for _ in range(n)]}\n",
    "print(phone_book)\n",
    "#phone_book = {k:v for k,v in name_numbers}\n",
    "#print(phone_book)"
   ]
  },
  {
   "cell_type": "code",
   "execution_count": 18,
   "metadata": {},
   "outputs": [
    {
     "name": "stdout",
     "output_type": "stream",
     "text": [
      "Enter number of elements in the list : 2\n",
      "Enter element No-1: \n",
      "23\n",
      "Enter element No-2: \n",
      "56\n",
      "The entered list is: \n",
      " [23, 56]\n"
     ]
    }
   ],
   "source": [
    "listA = []\n",
    "# Input number of elemetns\n",
    "n = int(input(\"Enter number of elements in the list : \"))\n",
    "# iterating till the range\n",
    "for i in range(0, n):\n",
    "   print(\"Enter element No-{}: \".format(i+1))\n",
    "   elm = int(input())\n",
    "   listA.append(elm) # adding the element\n",
    "print(\"The entered list is: \\n\",listA)"
   ]
  },
  {
   "cell_type": "code",
   "execution_count": null,
   "metadata": {},
   "outputs": [],
   "source": [
    "setA = set([])\n",
    "# Input number of elemetns\n",
    "n = int(input(\"Enter number of elements in the list : \"))\n",
    "# iterating till the range\n",
    "for i in range(0, n):\n",
    "   print(\"Enter element No-{}: \".format(i+1))\n",
    "   elm = int(input())\n",
    "   setA.add(elm) # adding the element\n",
    "print(\"The entered set is: \\n\",setA)"
   ]
  },
  {
   "cell_type": "code",
   "execution_count": null,
   "metadata": {},
   "outputs": [],
   "source": [
    "# 5\n",
    "# 10 40 30 50 20\n",
    "# 1 2 3 4 5\n",
    "# 32.0\n",
    "# Enter your code here. Read input from STDIN. Print output to STDOUT\n",
    "\n",
    "val = int(input())\n",
    "arraylist = list(map(int,input().split()))\n",
    "weightlist = list(map(int,input().split()))\n",
    "mysum = 0\n",
    "for i in range(val): \n",
    "    mysum = mysum + (arraylist[i] * weightlist[i])\n",
    "print(round(mysum/sum(weightlist),1))"
   ]
  },
  {
   "cell_type": "code",
   "execution_count": null,
   "metadata": {},
   "outputs": [],
   "source": [
    "mystring = tuple(map(str,input().split()))\n",
    "print(mystring)"
   ]
  },
  {
   "cell_type": "code",
   "execution_count": null,
   "metadata": {},
   "outputs": [],
   "source": [
    "# 57 172 86 43 130 65 196 98 49 148 74 37 112 56 28 14 7 22 11 34 17 52 26 13 40 20 10 5 16 8 4 2 1"
   ]
  },
  {
   "cell_type": "code",
   "execution_count": null,
   "metadata": {},
   "outputs": [],
   "source": []
  }
 ],
 "metadata": {
  "kernelspec": {
   "display_name": "Python 3 (ipykernel)",
   "language": "python",
   "name": "python3"
  },
  "language_info": {
   "codemirror_mode": {
    "name": "ipython",
    "version": 3
   },
   "file_extension": ".py",
   "mimetype": "text/x-python",
   "name": "python",
   "nbconvert_exporter": "python",
   "pygments_lexer": "ipython3",
   "version": "3.10.9"
  }
 },
 "nbformat": 4,
 "nbformat_minor": 4
}
