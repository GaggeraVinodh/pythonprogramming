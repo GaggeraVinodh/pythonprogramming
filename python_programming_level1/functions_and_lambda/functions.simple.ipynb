{
 "cells": [
  {
   "cell_type": "markdown",
   "id": "543377a9",
   "metadata": {},
   "source": [
    "# functions in python"
   ]
  },
  {
   "cell_type": "code",
   "execution_count": 1,
   "id": "23c4b85d",
   "metadata": {},
   "outputs": [],
   "source": [
    "import numpy as np"
   ]
  },
  {
   "cell_type": "code",
   "execution_count": null,
   "id": "2ac9221b",
   "metadata": {},
   "outputs": [],
   "source": [
    "np."
   ]
  },
  {
   "cell_type": "code",
   "execution_count": 29,
   "id": "d770f361",
   "metadata": {},
   "outputs": [
    {
     "name": "stdout",
     "output_type": "stream",
     "text": [
      "<class 'int'>\n"
     ]
    }
   ],
   "source": [
    "x = 20\n",
    "print(type(x))"
   ]
  },
  {
   "cell_type": "code",
   "execution_count": null,
   "id": "033a996a",
   "metadata": {},
   "outputs": [],
   "source": [
    "# functions, subroutines, methods, procedure\n",
    "def yourfunc():\n",
    "    print(\"This is function definition\")\n",
    "\n",
    "yourfunc() # This is a function call"
   ]
  },
  {
   "cell_type": "code",
   "execution_count": 28,
   "id": "ffc6aa1a",
   "metadata": {},
   "outputs": [
    {
     "name": "stdout",
     "output_type": "stream",
     "text": [
      "<class 'function'>\n"
     ]
    }
   ],
   "source": [
    "print(type(yourfunc))"
   ]
  },
  {
   "cell_type": "markdown",
   "id": "517f7534",
   "metadata": {},
   "source": [
    "# pass data as an argument to function"
   ]
  },
  {
   "cell_type": "code",
   "execution_count": 1,
   "id": "be66386b",
   "metadata": {},
   "outputs": [
    {
     "name": "stdout",
     "output_type": "stream",
     "text": [
      "9\n",
      "81\n"
     ]
    }
   ],
   "source": [
    "def yourfunc(b): \n",
    "    b = b ** 2\n",
    "    print(b)\n",
    "\n",
    "p = int(input())\n",
    "yourfunc(p)"
   ]
  },
  {
   "cell_type": "markdown",
   "id": "0e2f6766",
   "metadata": {},
   "source": [
    "# return data using 'return' from a function"
   ]
  },
  {
   "cell_type": "code",
   "execution_count": 4,
   "id": "9904b237",
   "metadata": {},
   "outputs": [
    {
     "name": "stdout",
     "output_type": "stream",
     "text": [
      "1600\n"
     ]
    }
   ],
   "source": [
    "def yourfunc(b): \n",
    "    b = b ** 2\n",
    "    return b\n",
    "\n",
    "p = 40\n",
    "x = yourfunc(p)\n",
    "print(x)"
   ]
  },
  {
   "cell_type": "markdown",
   "id": "85bfa10d",
   "metadata": {},
   "source": [
    "# pass more than one value to a function"
   ]
  },
  {
   "cell_type": "code",
   "execution_count": 7,
   "id": "15e8f16a",
   "metadata": {},
   "outputs": [
    {
     "name": "stdout",
     "output_type": "stream",
     "text": [
      "10 20 30\n",
      "6000\n"
     ]
    }
   ],
   "source": [
    "def yourfunc(b,c,d): \n",
    "    print(b,c,d)\n",
    "    return b*c*d\n",
    "\n",
    "p = 10\n",
    "q = 20\n",
    "r = 30\n",
    "print(yourfunc(p,q,r))"
   ]
  },
  {
   "cell_type": "markdown",
   "id": "c6c0eedc",
   "metadata": {},
   "source": [
    "# pass a list, set, dictionary and set to function"
   ]
  },
  {
   "cell_type": "code",
   "execution_count": 8,
   "id": "e1c52fb9",
   "metadata": {},
   "outputs": [
    {
     "name": "stdout",
     "output_type": "stream",
     "text": [
      "[3, 4, 67]\n"
     ]
    }
   ],
   "source": [
    "def yourfunc(b): \n",
    "    print(b)\n",
    "\n",
    "p = [3,4,67]\n",
    "yourfunc(p)"
   ]
  },
  {
   "cell_type": "code",
   "execution_count": 11,
   "id": "48f5e045",
   "metadata": {},
   "outputs": [
    {
     "name": "stdout",
     "output_type": "stream",
     "text": [
      "(3, 4, 67)\n",
      "{56, 34, 78}\n",
      "{3: 56, 6: 78, 12: 33, 5: 45}\n",
      "(3, 4, 67) {56, 34, 78} {3: 56, 6: 78, 12: 33, 5: 45}\n"
     ]
    }
   ],
   "source": [
    "def yourfunc(b,c,d): \n",
    "    d[5] = 45\n",
    "    print(b)\n",
    "    print(c)\n",
    "    print(d)\n",
    "\n",
    "p = (3,4,67)\n",
    "q = {34,56,78}\n",
    "r = {3:56,6:78,12:33}\n",
    "yourfunc(p,q,r)\n",
    "print(p,q,r)"
   ]
  },
  {
   "cell_type": "markdown",
   "id": "d7ae215d",
   "metadata": {},
   "source": [
    "# return a set, list, tuple or a dictionary"
   ]
  },
  {
   "cell_type": "code",
   "execution_count": null,
   "id": "764071d5",
   "metadata": {},
   "outputs": [],
   "source": [
    "def yourfunc(): \n",
    "    b = [23,45,79]\n",
    "    return b\n",
    "\n",
    "print(yourfunc())"
   ]
  },
  {
   "cell_type": "code",
   "execution_count": 2,
   "id": "349008fc",
   "metadata": {},
   "outputs": [
    {
     "name": "stdout",
     "output_type": "stream",
     "text": [
      "(23, 45, 79)\n"
     ]
    }
   ],
   "source": [
    "def yourfunc(): \n",
    "    b = (23,45,79)\n",
    "    return b\n",
    "\n",
    "print(yourfunc())"
   ]
  },
  {
   "cell_type": "code",
   "execution_count": 3,
   "id": "3bed69f9",
   "metadata": {},
   "outputs": [
    {
     "name": "stdout",
     "output_type": "stream",
     "text": [
      "{23, 45, 79}\n"
     ]
    }
   ],
   "source": [
    "def yourfunc(): \n",
    "    b = {23,45,79}\n",
    "    return b\n",
    "\n",
    "print(yourfunc())"
   ]
  },
  {
   "cell_type": "code",
   "execution_count": 1,
   "id": "79ae126d",
   "metadata": {},
   "outputs": [
    {
     "name": "stdout",
     "output_type": "stream",
     "text": [
      "(23, 45, 60)\n"
     ]
    }
   ],
   "source": [
    "def yourfunc(): \n",
    "    b = 23; c = 45; d = 60\n",
    "    return b,c,d\n",
    "\n",
    "print(yourfunc())"
   ]
  },
  {
   "cell_type": "code",
   "execution_count": 9,
   "id": "9559b3c5",
   "metadata": {},
   "outputs": [
    {
     "name": "stdout",
     "output_type": "stream",
     "text": [
      "67\n"
     ]
    }
   ],
   "source": [
    "x,y,z = 45,67,78\n",
    "print(y)"
   ]
  },
  {
   "cell_type": "code",
   "execution_count": 12,
   "id": "1df2a8e1",
   "metadata": {},
   "outputs": [
    {
     "name": "stdout",
     "output_type": "stream",
     "text": [
      "55\n",
      "45\n"
     ]
    }
   ],
   "source": [
    "x = 45; y = 55;\n",
    "x,y = 55,45\n",
    "print(x)\n",
    "print(y)"
   ]
  },
  {
   "cell_type": "code",
   "execution_count": 11,
   "id": "9bc5a052",
   "metadata": {},
   "outputs": [
    {
     "name": "stdout",
     "output_type": "stream",
     "text": [
      "<class 'tuple'>\n",
      "(45, 67, 78)\n"
     ]
    }
   ],
   "source": [
    "x = 45,67,78\n",
    "print(type(x))\n",
    "print(x)"
   ]
  },
  {
   "cell_type": "code",
   "execution_count": 6,
   "id": "152c86d3",
   "metadata": {},
   "outputs": [
    {
     "name": "stdout",
     "output_type": "stream",
     "text": [
      "([23, 56], {66, 45}, (2, 5, 7))\n"
     ]
    }
   ],
   "source": [
    "def yourfunc(): \n",
    "    b = [23,56];  c = {45,66}; d = (2,5,7)\n",
    "    return b,c,d\n",
    "\n",
    "print(yourfunc())"
   ]
  },
  {
   "cell_type": "code",
   "execution_count": 13,
   "id": "af5d11fe",
   "metadata": {},
   "outputs": [
    {
     "name": "stdout",
     "output_type": "stream",
     "text": [
      "{23: 1, 45: 12, 79: 'John'}\n"
     ]
    }
   ],
   "source": [
    "def yourfunc(): \n",
    "    b = {23:1,45:12,79:\"John\"}\n",
    "    return b\n",
    "\n",
    "print(yourfunc())"
   ]
  },
  {
   "cell_type": "markdown",
   "id": "96bc3b35",
   "metadata": {},
   "source": [
    "# default function arguments"
   ]
  },
  {
   "cell_type": "code",
   "execution_count": 19,
   "id": "2c098eec",
   "metadata": {},
   "outputs": [
    {
     "name": "stdout",
     "output_type": "stream",
     "text": [
      "Hello Karthik, How do you do\n"
     ]
    }
   ],
   "source": [
    "#Python program that shows default arguments\n",
    "\n",
    "def greetings(name=\"Karthik\", msg=\"Good morning!\"):\n",
    "    print(\"Hello\", name + ', ' + msg)\n",
    "\n",
    "#greetings(\"Hrishikesh\")\n",
    "#greetings(\"Shalini\", \"How do you do?\")\n",
    "#greetings()\n",
    "greetings(msg = \"How do you do\")\n",
    "#greetings(\"How do you do\")"
   ]
  },
  {
   "cell_type": "code",
   "execution_count": 22,
   "id": "7affcd24",
   "metadata": {},
   "outputs": [
    {
     "name": "stdout",
     "output_type": "stream",
     "text": [
      "100\n",
      "50\n",
      "300\n",
      "75\n"
     ]
    }
   ],
   "source": [
    "#Python program that shows default arguments\n",
    "\n",
    "def calculatearea(length=20, breadth=5):\n",
    "    return length * breadth\n",
    "\n",
    "print(calculatearea()) \n",
    "print(calculatearea(10)) \n",
    "print(calculatearea(breadth=15))\n",
    "print(calculatearea(15))"
   ]
  },
  {
   "cell_type": "code",
   "execution_count": 4,
   "id": "4ff6b008",
   "metadata": {},
   "outputs": [
    {
     "name": "stdout",
     "output_type": "stream",
     "text": [
      "750\n"
     ]
    }
   ],
   "source": [
    "#Python program that shows default arguments\n",
    "\n",
    "def calculatearea(x,length=10,breadth=5):\n",
    "    return x * length * breadth\n",
    "\n",
    "#print(calculatearea()) \n",
    "print(calculatearea(15)) \n",
    "#print(calculatearea(breadth=15))\n",
    "#print(calculatearea(15))"
   ]
  },
  {
   "cell_type": "code",
   "execution_count": null,
   "id": "7225d554",
   "metadata": {},
   "outputs": [],
   "source": []
  }
 ],
 "metadata": {
  "kernelspec": {
   "display_name": "Python 3 (ipykernel)",
   "language": "python",
   "name": "python3"
  },
  "language_info": {
   "codemirror_mode": {
    "name": "ipython",
    "version": 3
   },
   "file_extension": ".py",
   "mimetype": "text/x-python",
   "name": "python",
   "nbconvert_exporter": "python",
   "pygments_lexer": "ipython3",
   "version": "3.9.13"
  }
 },
 "nbformat": 4,
 "nbformat_minor": 5
}
