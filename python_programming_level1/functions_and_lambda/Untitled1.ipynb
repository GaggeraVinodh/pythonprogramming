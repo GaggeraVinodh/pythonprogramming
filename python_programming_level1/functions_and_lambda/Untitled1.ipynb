{
 "cells": [
  {
   "cell_type": "code",
   "execution_count": 1,
   "id": "40fa3909",
   "metadata": {},
   "outputs": [
    {
     "name": "stdout",
     "output_type": "stream",
     "text": [
      "Give a number153\n",
      "153\n"
     ]
    }
   ],
   "source": [
    "newvar = input(\"Give a number\")\n",
    "print(newvar)"
   ]
  },
  {
   "cell_type": "code",
   "execution_count": 12,
   "id": "ba296299",
   "metadata": {},
   "outputs": [
    {
     "name": "stdout",
     "output_type": "stream",
     "text": [
      "Give a number370\n",
      "The given number is Armstrong Number\n"
     ]
    }
   ],
   "source": [
    "newvar = input(\"Give a number\")\n",
    "sum = 0\n",
    "for ch in newvar:\n",
    "    n = int(ch)\n",
    "    sum = sum + n**3\n",
    "if sum == int(newvar):\n",
    "    print(\"The given number is Armstrong Number\")\n",
    "else:\n",
    "    print(\"The given number is not an Armstrong Number\")"
   ]
  },
  {
   "cell_type": "code",
   "execution_count": 13,
   "id": "2fcef421",
   "metadata": {},
   "outputs": [],
   "source": [
    "# find if the given number is a  palindrome\n",
    "# 1771\n",
    "# 4564"
   ]
  },
  {
   "cell_type": "code",
   "execution_count": 18,
   "id": "8909ed2f",
   "metadata": {},
   "outputs": [
    {
     "name": "stdout",
     "output_type": "stream",
     "text": [
      "Give a number232\n",
      "THe given number is a palindrome\n"
     ]
    }
   ],
   "source": [
    "temp = int(input(\"Give a number\")) # 151\n",
    "num = temp\n",
    "reverse = 0\n",
    "while num != 0:\n",
    "    val = num % 10\n",
    "    reverse = reverse * 10 + val\n",
    "    num = num // 10\n",
    "if reverse == temp:\n",
    "    print(\"THe given number is a palindrome\")\n",
    "else:\n",
    "    print(\"The given number is not a palindrome\")"
   ]
  },
  {
   "cell_type": "code",
   "execution_count": 19,
   "id": "7ede2e8e",
   "metadata": {},
   "outputs": [
    {
     "ename": "SyntaxError",
     "evalue": "invalid syntax (Temp/ipykernel_1972/704878121.py, line 1)",
     "output_type": "error",
     "traceback": [
      "\u001b[1;36m  File \u001b[1;32m\"C:\\Users\\Gururaj\\AppData\\Local\\Temp/ipykernel_1972/704878121.py\"\u001b[1;36m, line \u001b[1;32m1\u001b[0m\n\u001b[1;33m    find if the given string is a pangram\u001b[0m\n\u001b[1;37m                ^\u001b[0m\n\u001b[1;31mSyntaxError\u001b[0m\u001b[1;31m:\u001b[0m invalid syntax\n"
     ]
    }
   ],
   "source": [
    "#find if the given string is a pangram \n",
    "newstr = input(\"Give a string\")"
   ]
  },
  {
   "cell_type": "code",
   "execution_count": null,
   "id": "bc5aa7cf",
   "metadata": {},
   "outputs": [],
   "source": []
  }
 ],
 "metadata": {
  "kernelspec": {
   "display_name": "Python 3 (ipykernel)",
   "language": "python",
   "name": "python3"
  },
  "language_info": {
   "codemirror_mode": {
    "name": "ipython",
    "version": 3
   },
   "file_extension": ".py",
   "mimetype": "text/x-python",
   "name": "python",
   "nbconvert_exporter": "python",
   "pygments_lexer": "ipython3",
   "version": "3.9.7"
  }
 },
 "nbformat": 4,
 "nbformat_minor": 5
}
