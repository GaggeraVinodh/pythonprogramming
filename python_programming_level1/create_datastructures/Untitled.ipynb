{
 "cells": [
  {
   "cell_type": "code",
   "execution_count": 2,
   "id": "be758fea",
   "metadata": {},
   "outputs": [
    {
     "name": "stdout",
     "output_type": "stream",
     "text": [
      "[31, 33, 35, 37, 39, 41, 43, 45, 47, 49, 51, 53, 55, 57, 59, 61, 63, 65, 67, 69]\n"
     ]
    }
   ],
   "source": [
    "newlist = []\n",
    "#add all the odd numbers from 30 to 70 in newlist\n",
    "for num in range(30,70):\n",
    "    if num % 2 == 1:\n",
    "        newlist.append(num)\n",
    "print(newlist)"
   ]
  },
  {
   "cell_type": "code",
   "execution_count": 3,
   "id": "6c11a50a",
   "metadata": {},
   "outputs": [
    {
     "name": "stdout",
     "output_type": "stream",
     "text": [
      "[31, 33, 35, 37, 39, 41, 43, 45, 47, 49, 51, 53, 55, 57, 59, 61, 63, 65, 67, 69]\n"
     ]
    }
   ],
   "source": [
    "newlist = []\n",
    "#add all the odd numbers from 30 to 70 in newlist\n",
    "for num in range(31,70,2):\n",
    "    newlist.append(num)\n",
    "print(newlist)"
   ]
  },
  {
   "cell_type": "code",
   "execution_count": 4,
   "id": "635dcc24",
   "metadata": {},
   "outputs": [
    {
     "name": "stdout",
     "output_type": "stream",
     "text": [
      "Give a number10\n",
      "55.0\n"
     ]
    }
   ],
   "source": [
    "# sum of n numbers taking n as input\n",
    "num = int(input(\"Give a number\"))\n",
    "sum = num * (num+1) / 2\n",
    "print(sum)"
   ]
  },
  {
   "cell_type": "code",
   "execution_count": 5,
   "id": "793b31c2",
   "metadata": {},
   "outputs": [
    {
     "name": "stdout",
     "output_type": "stream",
     "text": [
      "Give a number10\n",
      "55\n"
     ]
    }
   ],
   "source": [
    "# sum of n numbers taking n as input\n",
    "num = int(input(\"Give a number\"))\n",
    "sum = 0\n",
    "for num in range(0,num+1):\n",
    "    sum = sum + num\n",
    "print(sum)"
   ]
  },
  {
   "cell_type": "code",
   "execution_count": null,
   "id": "713d25a8",
   "metadata": {},
   "outputs": [],
   "source": []
  }
 ],
 "metadata": {
  "kernelspec": {
   "display_name": "Python 3 (ipykernel)",
   "language": "python",
   "name": "python3"
  },
  "language_info": {
   "codemirror_mode": {
    "name": "ipython",
    "version": 3
   },
   "file_extension": ".py",
   "mimetype": "text/x-python",
   "name": "python",
   "nbconvert_exporter": "python",
   "pygments_lexer": "ipython3",
   "version": "3.9.7"
  }
 },
 "nbformat": 4,
 "nbformat_minor": 5
}
