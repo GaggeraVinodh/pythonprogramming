{
 "cells": [
  {
   "cell_type": "raw",
   "id": "a8707c6e",
   "metadata": {},
   "source": [
    "a list is ordered\n",
    "list can have duplicates\n",
    "list values are mutable, you can change any value\n",
    "you can append or insert or delete any value in a list\n",
    "list can be indexed\n",
    "a list can have heterogenous values it\n",
    "a list can have recursive elements inside it"
   ]
  },
  {
   "cell_type": "code",
   "execution_count": 27,
   "id": "858ef0d4",
   "metadata": {},
   "outputs": [
    {
     "name": "stdout",
     "output_type": "stream",
     "text": [
      "[34, 45.6, 'Ravi', 'C', 34, {45: 78, 'Ravi': 99, 'Ramesh': 87}]\n"
     ]
    }
   ],
   "source": [
    "yourlist = [34, 45.6, \"Ravi\", 'C',34, {45:78, \"Ravi\":99, \"Ramesh\": 87}]\n",
    "print(yourlist)"
   ]
  },
  {
   "cell_type": "code",
   "execution_count": 28,
   "id": "a4681a47",
   "metadata": {},
   "outputs": [
    {
     "name": "stdout",
     "output_type": "stream",
     "text": [
      "[34, 45.6, 'Ravi', 'C', 34, {45: 78, 'Ravi': 99, 'Ramesh': 87}, (34, 55)]\n"
     ]
    }
   ],
   "source": [
    "yourlist.append((34,55))\n",
    "print(yourlist)"
   ]
  },
  {
   "cell_type": "code",
   "execution_count": 29,
   "id": "7c724741",
   "metadata": {},
   "outputs": [
    {
     "name": "stdout",
     "output_type": "stream",
     "text": [
      "[34, 45.6, 'Ravi', [34, 55], 'C', 34, {45: 78, 'Ravi': 99, 'Ramesh': 87}, (34, 55)]\n"
     ]
    }
   ],
   "source": [
    "yourlist.insert(3,[34,55])\n",
    "print(yourlist)"
   ]
  },
  {
   "cell_type": "code",
   "execution_count": 30,
   "id": "6a6deb47",
   "metadata": {},
   "outputs": [
    {
     "name": "stdout",
     "output_type": "stream",
     "text": [
      "[34, 45.6, 'Ravi', {34, 55}, [34, 55], 'C', 34, {45: 78, 'Ravi': 99, 'Ramesh': 87}, (34, 55)]\n"
     ]
    }
   ],
   "source": [
    "yourlist.insert(3,{34,55})\n",
    "print(yourlist)"
   ]
  },
  {
   "cell_type": "code",
   "execution_count": 31,
   "id": "310ca8b1",
   "metadata": {},
   "outputs": [
    {
     "name": "stdout",
     "output_type": "stream",
     "text": [
      "[34, 45.6, 'Ravi', {34, 55}, [34, 55], 'C', 34, {45: 78, 'Ravi': 99, 'Ramesh': 87}, (34, 55), {'keyone': 55, 'keytwo': 100}]\n"
     ]
    }
   ],
   "source": [
    "yourlist.append({\"keyone\":55,\"keytwo\":100})\n",
    "print(yourlist)"
   ]
  },
  {
   "cell_type": "code",
   "execution_count": 32,
   "id": "f5abb952",
   "metadata": {},
   "outputs": [
    {
     "name": "stdout",
     "output_type": "stream",
     "text": [
      "[57, 57, 99, 78, 67, 45, 23]\n"
     ]
    }
   ],
   "source": [
    "newlist = [57, 57, 99, 78, 67, 45, 23]\n",
    "print(newlist)"
   ]
  },
  {
   "cell_type": "code",
   "execution_count": 33,
   "id": "d12ca23c",
   "metadata": {},
   "outputs": [
    {
     "name": "stdout",
     "output_type": "stream",
     "text": [
      "[57, 57, 99, [34, [78, 57], 56], 78, 67, 45, 23]\n"
     ]
    }
   ],
   "source": [
    "newlist.insert(3,[34,[78,57],56])\n",
    "print(newlist)"
   ]
  },
  {
   "cell_type": "code",
   "execution_count": 34,
   "id": "31136d72",
   "metadata": {},
   "outputs": [
    {
     "name": "stdout",
     "output_type": "stream",
     "text": [
      "[57, 57, 199, [34, [78, 57], 56], 78, 67, 45, 23]\n"
     ]
    }
   ],
   "source": [
    "newlist[2] = 199\n",
    "print(newlist)"
   ]
  },
  {
   "cell_type": "code",
   "execution_count": 39,
   "id": "dbf3a668",
   "metadata": {},
   "outputs": [
    {
     "name": "stdout",
     "output_type": "stream",
     "text": [
      "{45: 33, 21: 95}\n"
     ]
    }
   ],
   "source": [
    "print(newlist[3])"
   ]
  },
  {
   "cell_type": "code",
   "execution_count": 35,
   "id": "7ebcc3ce",
   "metadata": {},
   "outputs": [
    {
     "name": "stdout",
     "output_type": "stream",
     "text": [
      "[57, 57, 199, [34, [78, 57], 56], 78, 67, 23]\n"
     ]
    }
   ],
   "source": [
    "newlist.remove(45)\n",
    "print(newlist)"
   ]
  },
  {
   "cell_type": "code",
   "execution_count": 36,
   "id": "86a71b1f",
   "metadata": {},
   "outputs": [
    {
     "name": "stdout",
     "output_type": "stream",
     "text": [
      "78\n"
     ]
    }
   ],
   "source": [
    "print(newlist[3][1][0])"
   ]
  },
  {
   "cell_type": "code",
   "execution_count": 37,
   "id": "01240f9c",
   "metadata": {},
   "outputs": [
    {
     "name": "stdout",
     "output_type": "stream",
     "text": [
      "[57, 57, 199, {45: 33, 21: 95}, [34, [78, 57], 56], 78, 67, 23]\n"
     ]
    }
   ],
   "source": [
    "newlist.insert(3,{45:33,21:95})\n",
    "print(newlist)"
   ]
  },
  {
   "cell_type": "code",
   "execution_count": 38,
   "id": "77930714",
   "metadata": {},
   "outputs": [
    {
     "name": "stdout",
     "output_type": "stream",
     "text": [
      "33\n"
     ]
    }
   ],
   "source": [
    "print(newlist[3][45])"
   ]
  },
  {
   "cell_type": "code",
   "execution_count": null,
   "id": "fb556081",
   "metadata": {},
   "outputs": [],
   "source": []
  }
 ],
 "metadata": {
  "kernelspec": {
   "display_name": "Python 3 (ipykernel)",
   "language": "python",
   "name": "python3"
  },
  "language_info": {
   "codemirror_mode": {
    "name": "ipython",
    "version": 3
   },
   "file_extension": ".py",
   "mimetype": "text/x-python",
   "name": "python",
   "nbconvert_exporter": "python",
   "pygments_lexer": "ipython3",
   "version": "3.10.13"
  }
 },
 "nbformat": 4,
 "nbformat_minor": 5
}
