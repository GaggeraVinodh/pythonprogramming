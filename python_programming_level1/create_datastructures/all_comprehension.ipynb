{
 "cells": [
  {
   "cell_type": "code",
   "execution_count": 16,
   "id": "10e6676d",
   "metadata": {},
   "outputs": [
    {
     "name": "stdout",
     "output_type": "stream",
     "text": [
      "[0, 3, 6, 9, 12, 15, 18, 21, 24, 27, 30, 33, 36, 39, 42, 45, 48, 51, 54, 57, 60, 63, 66, 69, 72, 75, 78, 81, 84, 87, 90, 93, 96, 99]\n"
     ]
    }
   ],
   "source": [
    "fact3 = [x for x in range(100) if x%3 == 0]\n",
    "print(fact3)"
   ]
  },
  {
   "cell_type": "code",
   "execution_count": 17,
   "id": "cc56429d",
   "metadata": {},
   "outputs": [
    {
     "name": "stdout",
     "output_type": "stream",
     "text": [
      "{0, 3, 6, 9, 12, 15, 18, 21, 24, 27, 30, 33, 36, 39, 42, 45, 48, 51, 54, 57, 60, 63, 66, 69, 72, 75, 78, 81, 84, 87, 90, 93, 96, 99}\n"
     ]
    }
   ],
   "source": [
    "fact3 = {x for x in range(100) if x%3 == 0}\n",
    "print(fact3)"
   ]
  },
  {
   "cell_type": "code",
   "execution_count": 19,
   "id": "63e77c60",
   "metadata": {},
   "outputs": [
    {
     "name": "stdout",
     "output_type": "stream",
     "text": [
      "{0: 0, 3: 9, 6: 36, 9: 81, 12: 144, 15: 225, 18: 324, 21: 441, 24: 576, 27: 729, 30: 900, 33: 1089, 36: 1296, 39: 1521, 42: 1764, 45: 2025, 48: 2304, 51: 2601, 54: 2916, 57: 3249, 60: 3600, 63: 3969, 66: 4356, 69: 4761, 72: 5184, 75: 5625, 78: 6084, 81: 6561, 84: 7056, 87: 7569, 90: 8100, 93: 8649, 96: 9216, 99: 9801}\n"
     ]
    }
   ],
   "source": [
    "fact3 = {x:x*x for x in range(100) if x%3 == 0}\n",
    "print(fact3)"
   ]
  },
  {
   "cell_type": "code",
   "execution_count": 24,
   "id": "35a41c36",
   "metadata": {},
   "outputs": [
    {
     "name": "stdout",
     "output_type": "stream",
     "text": [
      "(0, 3, 6, 9, 12, 15, 18, 21, 24, 27, 30, 33, 36, 39, 42, 45, 48, 51, 54, 57, 60, 63, 66, 69, 72, 75, 78, 81, 84, 87, 90, 93, 96, 99)\n"
     ]
    }
   ],
   "source": [
    "fact3 = *(x for x in range(100) if x%3 == 0),\n",
    "print(fact3)"
   ]
  },
  {
   "cell_type": "code",
   "execution_count": 10,
   "id": "b3770250",
   "metadata": {},
   "outputs": [
    {
     "name": "stdout",
     "output_type": "stream",
     "text": [
      "[0, 10, 20, 30, 40, 50, 60, 70, 80, 90]\n"
     ]
    }
   ],
   "source": [
    "num_list = [y for y in range(100) if y % 2 == 0 if y % 5 == 0]\n",
    "print(num_list)"
   ]
  },
  {
   "cell_type": "code",
   "execution_count": 11,
   "id": "d4902b46",
   "metadata": {},
   "outputs": [
    {
     "name": "stdout",
     "output_type": "stream",
     "text": [
      "['Even', 'Odd', 'Even', 'Odd', 'Even', 'Odd', 'Even', 'Odd', 'Even', 'Odd']\n"
     ]
    }
   ],
   "source": [
    "obj = [\"Even\" if i%2==0 else \"Odd\" for i in range(10)]\n",
    "print(obj)"
   ]
  },
  {
   "cell_type": "raw",
   "id": "8f4c5c67",
   "metadata": {},
   "source": [
    "List comprehension is an elegant way to define and create lists based on existing lists.\n",
    "List comprehension is generally more compact and faster than normal functions and loops \n",
    "for creating list.\n",
    "However, we should avoid writing very long list comprehensions in one line to ensure that \n",
    "code is user-friendly.\n",
    "Remember, every list comprehension can be rewritten in for loop, but every for loop can’t be \n",
    "rewritten in the form of list comprehension."
   ]
  },
  {
   "cell_type": "code",
   "execution_count": 12,
   "id": "28cc65c1",
   "metadata": {},
   "outputs": [
    {
     "name": "stdout",
     "output_type": "stream",
     "text": [
      "{1, 9, 81, 49, 25}\n"
     ]
    }
   ],
   "source": [
    "print({x*x for x in range(1,10) if x % 2 != 0})"
   ]
  },
  {
   "cell_type": "code",
   "execution_count": 13,
   "id": "ff981b22",
   "metadata": {},
   "outputs": [
    {
     "name": "stdout",
     "output_type": "stream",
     "text": [
      "{1: 1, 3: 9, 5: 25, 7: 49, 9: 81}\n"
     ]
    }
   ],
   "source": [
    "print({x:x ** 2 for x in range(1,10) if x % 2 != 0})"
   ]
  },
  {
   "cell_type": "code",
   "execution_count": 15,
   "id": "4a1b327a",
   "metadata": {},
   "outputs": [
    {
     "name": "stdout",
     "output_type": "stream",
     "text": [
      "[1, 3, 5, 7, 9, 11, 13, 15, 17, 19, 21, 23, 25, 27, 29]\n"
     ]
    }
   ],
   "source": [
    "print([x for x in range(1,30,2)])"
   ]
  },
  {
   "cell_type": "code",
   "execution_count": null,
   "id": "acfbe724",
   "metadata": {},
   "outputs": [],
   "source": []
  }
 ],
 "metadata": {
  "kernelspec": {
   "display_name": "Python 3 (ipykernel)",
   "language": "python",
   "name": "python3"
  },
  "language_info": {
   "codemirror_mode": {
    "name": "ipython",
    "version": 3
   },
   "file_extension": ".py",
   "mimetype": "text/x-python",
   "name": "python",
   "nbconvert_exporter": "python",
   "pygments_lexer": "ipython3",
   "version": "3.9.7"
  }
 },
 "nbformat": 4,
 "nbformat_minor": 5
}
