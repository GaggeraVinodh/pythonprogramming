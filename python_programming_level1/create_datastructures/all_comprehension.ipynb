{
 "cells": [
  {
   "cell_type": "code",
   "execution_count": 1,
   "id": "2fc4fc88",
   "metadata": {},
   "outputs": [
    {
     "name": "stdout",
     "output_type": "stream",
     "text": [
      "[0, 1, 2, 3, 4, 5, 6, 7, 8, 9]\n"
     ]
    }
   ],
   "source": [
    "newlist = [0,1,2,3,4,5,6,7,8,9]\n",
    "print(newlist)"
   ]
  },
  {
   "cell_type": "code",
   "execution_count": 2,
   "id": "44123b88",
   "metadata": {},
   "outputs": [
    {
     "name": "stdout",
     "output_type": "stream",
     "text": [
      "[0, 1, 2, 3, 4, 5, 6, 7, 8, 9, 10]\n"
     ]
    }
   ],
   "source": [
    "newlist = [x for x in range(11)] \n",
    "print(newlist)"
   ]
  },
  {
   "cell_type": "code",
   "execution_count": 4,
   "id": "c2df259b",
   "metadata": {},
   "outputs": [
    {
     "name": "stdout",
     "output_type": "stream",
     "text": [
      "[0.0, 0.5, 2.0, 4.5, 8.0, 12.5, 18.0, 24.5, 32.0, 40.5, 50.0]\n"
     ]
    }
   ],
   "source": [
    "print([x*x for x in range(11)])"
   ]
  },
  {
   "cell_type": "code",
   "execution_count": 17,
   "id": "982715cf",
   "metadata": {},
   "outputs": [
    {
     "name": "stdout",
     "output_type": "stream",
     "text": [
      "[1, 9, 25, 49, 81, 121, 169, 225, 289, 361, 441, 529, 625, 729, 841, 961, 1089, 1225, 1369, 1521, 1681, 1849, 2025, 2209, 2401, 2601, 2809, 3025, 3249, 3481, 3721, 3969, 4225, 4489, 4761, 5041, 5329, 5625, 5929, 6241, 6561, 6889, 7225, 7569, 7921, 8281, 8649, 9025, 9409, 9801]\n",
      "1 9 25 49 81 121 169 225 289 361 441 529 625 729 841 961 1089 1225 1369 1521 1681 1849 2025 2209 2401 2601 2809 3025 3249 3481 3721 3969 4225 4489 4761 5041 5329 5625 5929 6241 6561 6889 7225 7569 7921 8281 8649 9025 9409 9801 "
     ]
    }
   ],
   "source": [
    "print([x ** 2 for x in range(101) if x % 2 == 1])\n",
    "for num in range(0,101):\n",
    "    if num % 2 == 1:\n",
    "        print(num*num,end=\" \")"
   ]
  },
  {
   "cell_type": "code",
   "execution_count": 9,
   "id": "e4ea6191",
   "metadata": {},
   "outputs": [
    {
     "name": "stdout",
     "output_type": "stream",
     "text": [
      "{0: 0, 1: 1, 2: 4, 3: 9, 4: 16, 5: 25, 6: 36, 7: 49, 8: 64, 9: 81, 10: 100, 11: 121, 12: 144, 13: 169, 14: 196, 15: 225, 16: 256, 17: 289, 18: 324, 19: 361, 20: 400, 21: 441, 22: 484, 23: 529, 24: 576, 25: 625, 26: 676, 27: 729, 28: 784, 29: 841, 30: 900, 31: 961, 32: 1024, 33: 1089, 34: 1156, 35: 1225, 36: 1296, 37: 1369, 38: 1444, 39: 1521, 40: 1600, 41: 1681, 42: 1764, 43: 1849, 44: 1936, 45: 2025, 46: 2116, 47: 2209, 48: 2304, 49: 2401}\n"
     ]
    }
   ],
   "source": [
    "print({x:x*x for x in range(50)})"
   ]
  },
  {
   "cell_type": "code",
   "execution_count": 10,
   "id": "293c79c3",
   "metadata": {},
   "outputs": [
    {
     "name": "stdout",
     "output_type": "stream",
     "text": [
      "{0, 1, 256, 1024, 4, 900, 1156, 2304, 9, 16, 144, 400, 529, 784, 1296, 1681, 1936, 25, 289, 2209, 36, 676, 1444, 169, 49, 441, 1849, 64, 576, 961, 1089, 196, 324, 1600, 2116, 841, 1225, 81, 729, 1369, 225, 2401, 100, 484, 1764, 361, 2025, 625, 1521, 121}\n"
     ]
    }
   ],
   "source": [
    "print({x*x for x in range(50)})"
   ]
  },
  {
   "cell_type": "code",
   "execution_count": 13,
   "id": "df483cd9",
   "metadata": {},
   "outputs": [
    {
     "name": "stdout",
     "output_type": "stream",
     "text": [
      "<generator object <genexpr> at 0x000001303A28CE40>\n"
     ]
    }
   ],
   "source": [
    "newtuple = (x*x for x in range(11))\n",
    "print(newtuple)"
   ]
  },
  {
   "cell_type": "code",
   "execution_count": null,
   "id": "cadccda4",
   "metadata": {},
   "outputs": [],
   "source": []
  }
 ],
 "metadata": {
  "kernelspec": {
   "display_name": "Python 3 (ipykernel)",
   "language": "python",
   "name": "python3"
  },
  "language_info": {
   "codemirror_mode": {
    "name": "ipython",
    "version": 3
   },
   "file_extension": ".py",
   "mimetype": "text/x-python",
   "name": "python",
   "nbconvert_exporter": "python",
   "pygments_lexer": "ipython3",
   "version": "3.9.13"
  }
 },
 "nbformat": 4,
 "nbformat_minor": 5
}
