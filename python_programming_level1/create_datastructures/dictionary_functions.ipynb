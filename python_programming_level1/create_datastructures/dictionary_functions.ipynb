{
 "cells": [
  {
   "cell_type": "markdown",
   "metadata": {},
   "source": [
    "# Different ways of creating a dictionary"
   ]
  },
  {
   "cell_type": "code",
   "execution_count": 130,
   "metadata": {},
   "outputs": [
    {
     "name": "stdout",
     "output_type": "stream",
     "text": [
      "{23: 'Karthik', 45: 'Ramesh', 67: 'Vandana', 78: 'Faisal', 99: 'Andy'}\n"
     ]
    }
   ],
   "source": [
    "gooddict = {}\n",
    "gooddict.update({23:\"Karthik\",45:\"Ramesh\",67:\"Vandana\",78:\"Faisal\",99:\"Andy\"})\n",
    "print(gooddict)"
   ]
  },
  {
   "cell_type": "code",
   "execution_count": 131,
   "metadata": {},
   "outputs": [
    {
     "data": {
      "text/plain": [
       "{'Karthik': 23, 45: 'Ramesh', 67: 'Vandana', 78: 'Faisal', 99: 'Andy'}"
      ]
     },
     "execution_count": 131,
     "metadata": {},
     "output_type": "execute_result"
    }
   ],
   "source": [
    "gooddict = {\"Karthik\":23, 45:\"Ramesh\", 67:\"Vandana\", 78:\"Faisal\", 99:\"Andy\"}\n",
    "gooddict"
   ]
  },
  {
   "cell_type": "code",
   "execution_count": 132,
   "metadata": {},
   "outputs": [
    {
     "name": "stdout",
     "output_type": "stream",
     "text": [
      "{23: 'Karthik', 45: 'Ramesh', 67: 'Vandana', 78: 'Faisal', 99: 'Andy'}\n"
     ]
    }
   ],
   "source": [
    "gooddict = dict({23:\"Karthik\",45:\"Ramesh\",67:\"Vandana\",78:\"Faisal\",99:\"Andy\"})\n",
    "print(gooddict)"
   ]
  },
  {
   "cell_type": "code",
   "execution_count": 133,
   "metadata": {},
   "outputs": [
    {
     "ename": "SyntaxError",
     "evalue": "invalid syntax (Temp/ipykernel_13792/535166235.py, line 1)",
     "output_type": "error",
     "traceback": [
      "\u001b[1;36m  File \u001b[1;32m\"C:\\Users\\Gururaj\\AppData\\Local\\Temp/ipykernel_13792/535166235.py\"\u001b[1;36m, line \u001b[1;32m1\u001b[0m\n\u001b[1;33m    gooddict.\u001b[0m\n\u001b[1;37m             ^\u001b[0m\n\u001b[1;31mSyntaxError\u001b[0m\u001b[1;31m:\u001b[0m invalid syntax\n"
     ]
    }
   ],
   "source": [
    "gooddict."
   ]
  },
  {
   "cell_type": "markdown",
   "metadata": {},
   "source": [
    "# all python functions"
   ]
  },
  {
   "cell_type": "code",
   "execution_count": 134,
   "metadata": {},
   "outputs": [
    {
     "data": {
      "text/plain": [
       "{23: 'Karthik', 45: 'Ramesh', 67: 'Vandana', 78: 'Faisal', 99: 'Andy'}"
      ]
     },
     "execution_count": 134,
     "metadata": {},
     "output_type": "execute_result"
    }
   ],
   "source": [
    "temp = gooddict.copy()\n",
    "temp"
   ]
  },
  {
   "cell_type": "code",
   "execution_count": 135,
   "metadata": {},
   "outputs": [
    {
     "data": {
      "text/plain": [
       "dict_keys([23, 45, 67, 78, 99])"
      ]
     },
     "execution_count": 135,
     "metadata": {},
     "output_type": "execute_result"
    }
   ],
   "source": [
    "gooddict.keys()"
   ]
  },
  {
   "cell_type": "code",
   "execution_count": 136,
   "metadata": {},
   "outputs": [
    {
     "data": {
      "text/plain": [
       "dict_values(['Karthik', 'Ramesh', 'Vandana', 'Faisal', 'Andy'])"
      ]
     },
     "execution_count": 136,
     "metadata": {},
     "output_type": "execute_result"
    }
   ],
   "source": [
    "gooddict.values()"
   ]
  },
  {
   "cell_type": "code",
   "execution_count": 137,
   "metadata": {},
   "outputs": [
    {
     "name": "stdout",
     "output_type": "stream",
     "text": [
      "<class 'dict_values'>\n"
     ]
    }
   ],
   "source": [
    "print(type(gooddict.values()))"
   ]
  },
  {
   "cell_type": "code",
   "execution_count": 138,
   "metadata": {},
   "outputs": [
    {
     "data": {
      "text/plain": [
       "dict_items([(23, 'Karthik'), (45, 'Ramesh'), (67, 'Vandana'), (78, 'Faisal'), (99, 'Andy')])"
      ]
     },
     "execution_count": 138,
     "metadata": {},
     "output_type": "execute_result"
    }
   ],
   "source": [
    "gooddict.items()"
   ]
  },
  {
   "cell_type": "code",
   "execution_count": 139,
   "metadata": {},
   "outputs": [
    {
     "name": "stdout",
     "output_type": "stream",
     "text": [
      "None\n",
      "Ramesh\n",
      "Vandana\n"
     ]
    }
   ],
   "source": [
    "print(gooddict.get(\"Karthik\"))\n",
    "print(gooddict.get(45))\n",
    "print(gooddict.get(67))"
   ]
  },
  {
   "cell_type": "code",
   "execution_count": 140,
   "metadata": {},
   "outputs": [
    {
     "data": {
      "text/plain": [
       "{}"
      ]
     },
     "execution_count": 140,
     "metadata": {},
     "output_type": "execute_result"
    }
   ],
   "source": [
    "temp.clear()\n",
    "temp"
   ]
  },
  {
   "cell_type": "code",
   "execution_count": 141,
   "metadata": {},
   "outputs": [
    {
     "data": {
      "text/plain": [
       "{23: 'Karthik', 45: 'Ramesh', 67: 'Vandana', 78: 'Faisal', 99: 'Andy'}"
      ]
     },
     "execution_count": 141,
     "metadata": {},
     "output_type": "execute_result"
    }
   ],
   "source": [
    "temp = gooddict.copy()\n",
    "temp"
   ]
  },
  {
   "cell_type": "code",
   "execution_count": 142,
   "metadata": {},
   "outputs": [
    {
     "data": {
      "text/plain": [
       "'Vandana'"
      ]
     },
     "execution_count": 142,
     "metadata": {},
     "output_type": "execute_result"
    }
   ],
   "source": [
    "gooddict.pop(67)\n",
    "#gooddict"
   ]
  },
  {
   "cell_type": "code",
   "execution_count": 143,
   "metadata": {},
   "outputs": [
    {
     "data": {
      "text/plain": [
       "{23: 'Karthik', 45: 'Ramesh', 78: 'Faisal', 99: 'Andy'}"
      ]
     },
     "execution_count": 143,
     "metadata": {},
     "output_type": "execute_result"
    }
   ],
   "source": [
    "gooddict"
   ]
  },
  {
   "cell_type": "code",
   "execution_count": 144,
   "metadata": {},
   "outputs": [
    {
     "data": {
      "text/plain": [
       "(99, 'Andy')"
      ]
     },
     "execution_count": 144,
     "metadata": {},
     "output_type": "execute_result"
    }
   ],
   "source": [
    "gooddict.popitem()"
   ]
  },
  {
   "cell_type": "code",
   "execution_count": 145,
   "metadata": {},
   "outputs": [
    {
     "data": {
      "text/plain": [
       "{23: 'Karthik', 45: 'Ramesh', 78: 'Faisal'}"
      ]
     },
     "execution_count": 145,
     "metadata": {},
     "output_type": "execute_result"
    }
   ],
   "source": [
    "gooddict"
   ]
  },
  {
   "cell_type": "code",
   "execution_count": 146,
   "metadata": {},
   "outputs": [
    {
     "data": {
      "text/plain": [
       "{23: 'Karthik', 45: 'Ramesh', 78: 'Faisal', 49: 'Rakshith'}"
      ]
     },
     "execution_count": 146,
     "metadata": {},
     "output_type": "execute_result"
    }
   ],
   "source": [
    "gooddict.setdefault(49,\"Rakshith\")\n",
    "gooddict"
   ]
  },
  {
   "cell_type": "code",
   "execution_count": 147,
   "metadata": {},
   "outputs": [
    {
     "data": {
      "text/plain": [
       "{34: 0, 56: 0, 78: 0}"
      ]
     },
     "execution_count": 147,
     "metadata": {},
     "output_type": "execute_result"
    }
   ],
   "source": [
    "newdict = dict.fromkeys([34,56,78],0)\n",
    "newdict"
   ]
  },
  {
   "cell_type": "code",
   "execution_count": 148,
   "metadata": {},
   "outputs": [
    {
     "data": {
      "text/plain": [
       "{34: 0, 56: 0, 78: 0, 55: 'James'}"
      ]
     },
     "execution_count": 148,
     "metadata": {},
     "output_type": "execute_result"
    }
   ],
   "source": [
    "newdict.update({55:\"James\"})\n",
    "newdict"
   ]
  },
  {
   "cell_type": "code",
   "execution_count": 149,
   "metadata": {},
   "outputs": [
    {
     "name": "stdout",
     "output_type": "stream",
     "text": [
      "23 45 78 49 "
     ]
    }
   ],
   "source": [
    "for key in gooddict:\n",
    "    print(key, end = \" \")"
   ]
  },
  {
   "cell_type": "code",
   "execution_count": 150,
   "metadata": {},
   "outputs": [
    {
     "name": "stdout",
     "output_type": "stream",
     "text": [
      "Karthik  Ramesh  Faisal  Rakshith  "
     ]
    }
   ],
   "source": [
    "for i in gooddict:\n",
    "     print(gooddict[i], end = \"  \")"
   ]
  },
  {
   "cell_type": "code",
   "execution_count": 151,
   "metadata": {},
   "outputs": [
    {
     "name": "stdout",
     "output_type": "stream",
     "text": [
      "23 Karthik\n",
      "45 Ramesh\n",
      "78 Faisal\n",
      "49 Rakshith\n"
     ]
    }
   ],
   "source": [
    "for i in gooddict:\n",
    "     print(i, gooddict[i])"
   ]
  },
  {
   "cell_type": "code",
   "execution_count": 152,
   "metadata": {},
   "outputs": [
    {
     "name": "stdout",
     "output_type": "stream",
     "text": [
      "23 Karthik\n",
      "45 Ramesh\n",
      "78 Faisal\n",
      "49 Rakshith\n"
     ]
    }
   ],
   "source": [
    "for k, v in gooddict.items():\n",
    "    print(k, v)"
   ]
  },
  {
   "cell_type": "code",
   "execution_count": null,
   "metadata": {},
   "outputs": [],
   "source": [
    "d={'a':'apple','b':'ball'}\n",
    "print(d.keys())  # displays all keys in list\n",
    "print(d.values()) # displays your values in list\n",
    "print(d.items()) # displays your pair tuple of key and value"
   ]
  },
  {
   "cell_type": "markdown",
   "metadata": {},
   "source": [
    "# sort dictionary items by key"
   ]
  },
  {
   "cell_type": "code",
   "execution_count": 153,
   "metadata": {},
   "outputs": [
    {
     "data": {
      "text/plain": [
       "[(3, 43), (4, 3), (10, 0), (11, 22), (72, 1)]"
      ]
     },
     "execution_count": 153,
     "metadata": {},
     "output_type": "execute_result"
    }
   ],
   "source": [
    "d = {11: 22, 3: 43, 4: 3, 72: 1, 10: 0}\n",
    "sorted(d.items(), key=lambda d: d[0])"
   ]
  },
  {
   "cell_type": "markdown",
   "metadata": {},
   "source": [
    "# sort dictionary items by key"
   ]
  },
  {
   "cell_type": "code",
   "execution_count": 154,
   "metadata": {},
   "outputs": [
    {
     "data": {
      "text/plain": [
       "{3: 43, 4: 3, 10: 0, 11: 22, 72: 1}"
      ]
     },
     "execution_count": 154,
     "metadata": {},
     "output_type": "execute_result"
    }
   ],
   "source": [
    "d = {11: 22, 3: 43, 4: 3, 72: 1, 10: 0}\n",
    "dict(sorted(d.items(), key=lambda item: item[0]))"
   ]
  },
  {
   "cell_type": "markdown",
   "metadata": {},
   "source": [
    "# sort dictionary items by value"
   ]
  },
  {
   "cell_type": "code",
   "execution_count": 155,
   "metadata": {},
   "outputs": [
    {
     "data": {
      "text/plain": [
       "{10: 0, 72: 1, 4: 3, 11: 22, 3: 43}"
      ]
     },
     "execution_count": 155,
     "metadata": {},
     "output_type": "execute_result"
    }
   ],
   "source": [
    "d = {11: 22, 3: 43, 4: 3, 72: 1, 10: 0}\n",
    "dict(sorted(d.items(), key=lambda item: item[1]))"
   ]
  },
  {
   "cell_type": "code",
   "execution_count": null,
   "metadata": {},
   "outputs": [],
   "source": []
  },
  {
   "cell_type": "code",
   "execution_count": null,
   "metadata": {},
   "outputs": [],
   "source": []
  }
 ],
 "metadata": {
  "kernelspec": {
   "display_name": "Python 3 (ipykernel)",
   "language": "python",
   "name": "python3"
  },
  "language_info": {
   "codemirror_mode": {
    "name": "ipython",
    "version": 3
   },
   "file_extension": ".py",
   "mimetype": "text/x-python",
   "name": "python",
   "nbconvert_exporter": "python",
   "pygments_lexer": "ipython3",
   "version": "3.9.7"
  }
 },
 "nbformat": 4,
 "nbformat_minor": 4
}
