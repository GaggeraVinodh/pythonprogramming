{
 "cells": [
  {
   "cell_type": "code",
   "execution_count": 19,
   "id": "c2a1f9fe",
   "metadata": {},
   "outputs": [],
   "source": [
    "import math"
   ]
  },
  {
   "cell_type": "code",
   "execution_count": 21,
   "id": "ed736b8d",
   "metadata": {},
   "outputs": [
    {
     "name": "stdout",
     "output_type": "stream",
     "text": [
      "34 5 6\n",
      "[5.0, 6.0, 34.0]\n",
      "3\n",
      "15.0\n",
      "6.0\n",
      "5.0\n"
     ]
    }
   ],
   "source": [
    "arraylist = sorted(list(map(float,input().split())))\n",
    "val  = len(arraylist)\n",
    "print(arraylist)\n",
    "print(val)\n",
    "print(sum(arraylist) / val )\n",
    "if val%2 == 0:\n",
    "    median = (arraylist[(val//2)-1] + arraylist[(val//2)])/2\n",
    "else:\n",
    "    median = arraylist[((val-1)//2)]\n",
    "print(median)\n",
    "mode = max(sorted(arraylist), key=arraylist.count)\n",
    "print(mode)"
   ]
  },
  {
   "cell_type": "code",
   "execution_count": 22,
   "id": "e4bb2254",
   "metadata": {},
   "outputs": [
    {
     "name": "stdout",
     "output_type": "stream",
     "text": [
      "34.0\n"
     ]
    }
   ],
   "source": [
    "maxvalue = max(arraylist)\n",
    "print(maxvalue)"
   ]
  },
  {
   "cell_type": "code",
   "execution_count": 23,
   "id": "c1a9b7de",
   "metadata": {},
   "outputs": [
    {
     "name": "stdout",
     "output_type": "stream",
     "text": [
      "5.0\n"
     ]
    }
   ],
   "source": [
    "minvalue = min(arraylist)\n",
    "print(minvalue)"
   ]
  },
  {
   "cell_type": "code",
   "execution_count": 24,
   "id": "87ed7960",
   "metadata": {},
   "outputs": [
    {
     "name": "stdout",
     "output_type": "stream",
     "text": [
      "29.0\n"
     ]
    }
   ],
   "source": [
    "rangeval = maxvalue - minvalue\n",
    "print(rangeval)"
   ]
  },
  {
   "cell_type": "code",
   "execution_count": 25,
   "id": "459943be",
   "metadata": {},
   "outputs": [
    {
     "name": "stdout",
     "output_type": "stream",
     "text": [
      "13.4412301024373\n",
      "180.66666666666666\n"
     ]
    }
   ],
   "source": [
    "squares = 0; stad = 0\n",
    "mean = sum(arraylist) / val\n",
    "for num in arraylist:\n",
    "    squares = squares + ((num-mean) * (num-mean))\n",
    "stad = math.sqrt(squares/val)\n",
    "print(stad)\n",
    "print(squares/val)"
   ]
  },
  {
   "cell_type": "code",
   "execution_count": null,
   "id": "58f78424",
   "metadata": {},
   "outputs": [],
   "source": [
    "val = int(input())\n",
    "arraylist = list(map(int,input().split()))\n",
    "weightlist = list(map(int,input().split()))\n",
    "mysum = 0\n",
    "for i in range(val): \n",
    "    mysum = mysum + (arraylist[i] * weightlist[i])\n",
    "print(mysum)\n",
    "print(weightlist)\n",
    "print(round(mysum/sum(weightlist),1))"
   ]
  }
 ],
 "metadata": {
  "kernelspec": {
   "display_name": "Python 3 (ipykernel)",
   "language": "python",
   "name": "python3"
  },
  "language_info": {
   "codemirror_mode": {
    "name": "ipython",
    "version": 3
   },
   "file_extension": ".py",
   "mimetype": "text/x-python",
   "name": "python",
   "nbconvert_exporter": "python",
   "pygments_lexer": "ipython3",
   "version": "3.9.13"
  }
 },
 "nbformat": 4,
 "nbformat_minor": 5
}
