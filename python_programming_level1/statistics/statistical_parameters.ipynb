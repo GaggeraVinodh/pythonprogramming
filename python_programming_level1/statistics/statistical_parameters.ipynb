{
 "cells": [
  {
   "cell_type": "code",
   "execution_count": 7,
   "id": "07212030",
   "metadata": {},
   "outputs": [],
   "source": [
    "import math"
   ]
  },
  {
   "cell_type": "code",
   "execution_count": 15,
   "id": "a014bf50",
   "metadata": {},
   "outputs": [
    {
     "name": "stdout",
     "output_type": "stream",
     "text": [
      "3\n",
      "4 5 6\n",
      "5.0\n",
      "5.0\n",
      "4.0\n"
     ]
    }
   ],
   "source": [
    "val = int(input())\n",
    "arraylist = sorted(list(map(float,input().split())))\n",
    "print(sum(arraylist) / val )\n",
    "if val%2 == 0:\n",
    "    median = (arraylist[(val//2)-1] + arraylist[(val//2)])/2\n",
    "else:\n",
    "    median = arraylist[((val-1)//2)]\n",
    "print(median)\n",
    "mode = max(sorted(arraylist), key=arraylist.count)\n",
    "print(mode)"
   ]
  },
  {
   "cell_type": "code",
   "execution_count": 9,
   "id": "fdb91b43",
   "metadata": {},
   "outputs": [
    {
     "name": "stdout",
     "output_type": "stream",
     "text": [
      "67.0\n"
     ]
    }
   ],
   "source": [
    "maxvalue = max(arraylist)\n",
    "print(maxvalue)"
   ]
  },
  {
   "cell_type": "code",
   "execution_count": 10,
   "id": "aa14692b",
   "metadata": {},
   "outputs": [
    {
     "name": "stdout",
     "output_type": "stream",
     "text": [
      "23.0\n"
     ]
    }
   ],
   "source": [
    "minvalue = min(arraylist)\n",
    "print(minvalue)"
   ]
  },
  {
   "cell_type": "code",
   "execution_count": 11,
   "id": "c0fd972c",
   "metadata": {},
   "outputs": [
    {
     "name": "stdout",
     "output_type": "stream",
     "text": [
      "17.962924780409974\n",
      "322.6666666666667\n"
     ]
    }
   ],
   "source": [
    "squares = 0; stad = 0\n",
    "mean = sum(arraylist) / val\n",
    "for num in arraylist:\n",
    "    squares = squares + ((num-mean) * (num-mean))\n",
    "stad = math.sqrt(squares/val)\n",
    "print(stad)\n",
    "print(squares/val)"
   ]
  },
  {
   "cell_type": "code",
   "execution_count": null,
   "id": "ae6f6fc3",
   "metadata": {},
   "outputs": [],
   "source": [
    "val = int(input())\n",
    "arraylist = list(map(int,input().split()))\n",
    "weightlist = list(map(int,input().split()))\n",
    "mysum = 0\n",
    "for i in range(val): \n",
    "    mysum = mysum + (arraylist[i] * weightlist[i])\n",
    "print(mysum)\n",
    "print(weightlist)\n",
    "print(round(mysum/sum(weightlist),1))"
   ]
  }
 ],
 "metadata": {
  "kernelspec": {
   "display_name": "Python 3 (ipykernel)",
   "language": "python",
   "name": "python3"
  },
  "language_info": {
   "codemirror_mode": {
    "name": "ipython",
    "version": 3
   },
   "file_extension": ".py",
   "mimetype": "text/x-python",
   "name": "python",
   "nbconvert_exporter": "python",
   "pygments_lexer": "ipython3",
   "version": "3.9.13"
  }
 },
 "nbformat": 4,
 "nbformat_minor": 5
}
