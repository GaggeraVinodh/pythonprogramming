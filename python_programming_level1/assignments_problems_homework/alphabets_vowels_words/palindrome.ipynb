{
 "cells": [
  {
   "cell_type": "code",
   "execution_count": 3,
   "id": "1fc1e376",
   "metadata": {},
   "outputs": [
    {
     "name": "stdout",
     "output_type": "stream",
     "text": [
      "Give a wordmadam\n"
     ]
    }
   ],
   "source": [
    "word = input(\"Give a word\")"
   ]
  },
  {
   "cell_type": "code",
   "execution_count": 7,
   "id": "c67cc052",
   "metadata": {},
   "outputs": [
    {
     "name": "stdout",
     "output_type": "stream",
     "text": [
      "madam\n",
      "madam\n"
     ]
    }
   ],
   "source": [
    "print(word)\n",
    "print(\"\".join(list(reversed(word))))"
   ]
  },
  {
   "cell_type": "code",
   "execution_count": 8,
   "id": "cfa1e17d",
   "metadata": {},
   "outputs": [
    {
     "name": "stdout",
     "output_type": "stream",
     "text": [
      "The given word is a palindrome\n"
     ]
    }
   ],
   "source": [
    "if word == \"\".join(list(reversed(word))):\n",
    "    print(\"The given word is a palindrome\")"
   ]
  },
  {
   "cell_type": "code",
   "execution_count": null,
   "id": "074821a9",
   "metadata": {},
   "outputs": [],
   "source": []
  }
 ],
 "metadata": {
  "kernelspec": {
   "display_name": "Python 3 (ipykernel)",
   "language": "python",
   "name": "python3"
  },
  "language_info": {
   "codemirror_mode": {
    "name": "ipython",
    "version": 3
   },
   "file_extension": ".py",
   "mimetype": "text/x-python",
   "name": "python",
   "nbconvert_exporter": "python",
   "pygments_lexer": "ipython3",
   "version": "3.10.9"
  }
 },
 "nbformat": 4,
 "nbformat_minor": 5
}
