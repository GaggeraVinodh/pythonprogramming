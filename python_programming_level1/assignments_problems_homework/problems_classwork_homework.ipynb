{
 "cells": [
  {
   "cell_type": "code",
   "execution_count": 14,
   "metadata": {},
   "outputs": [
    {
     "name": "stdout",
     "output_type": "stream",
     "text": [
      "28\n",
      "28\n"
     ]
    }
   ],
   "source": [
    "num = int(input())\n",
    "total = 0\n",
    "for val in range(1,num):\n",
    "    if num % val == 0:\n",
    "        total = total + val\n",
    "if total == num:\n",
    "    print(num)"
   ]
  },
  {
   "cell_type": "code",
   "execution_count": 23,
   "metadata": {},
   "outputs": [
    {
     "name": "stdout",
     "output_type": "stream",
     "text": [
      "6\n",
      "28\n",
      "496\n",
      "8128\n"
     ]
    }
   ],
   "source": [
    "for num in range(1,10000):\n",
    "    total = 0\n",
    "    for val in range(1,num):\n",
    "        if num % val == 0:\n",
    "            total = total + val\n",
    "    if total == num:\n",
    "        print(num)"
   ]
  },
  {
   "cell_type": "code",
   "execution_count": 35,
   "metadata": {},
   "outputs": [
    {
     "name": "stdout",
     "output_type": "stream",
     "text": [
      "6\n",
      "28\n",
      "496\n",
      "8128\n"
     ]
    }
   ],
   "source": [
    "def perfect_number():\n",
    "    for num in range(1,10000):\n",
    "        total = 0\n",
    "        for val in range(1,num):\n",
    "            if num % val == 0:\n",
    "                total = total + val\n",
    "        if total == num:\n",
    "            print(num)\n",
    "        \n",
    "perfect_number()"
   ]
  },
  {
   "cell_type": "code",
   "execution_count": 37,
   "metadata": {},
   "outputs": [
    {
     "name": "stdout",
     "output_type": "stream",
     "text": [
      "[6, 28, 496, 8128]\n"
     ]
    }
   ],
   "source": [
    "def perfect_number():\n",
    "    pf = []\n",
    "    for num in range(1,10000):\n",
    "        total = 0\n",
    "        for val in range(1,num):\n",
    "            if num % val == 0:\n",
    "                total = total + val\n",
    "        if total == num:\n",
    "            pf.append(num)\n",
    "    return pf\n",
    "        \n",
    "pf = perfect_number()\n",
    "print(pf)"
   ]
  },
  {
   "cell_type": "code",
   "execution_count": 24,
   "metadata": {},
   "outputs": [
    {
     "name": "stdout",
     "output_type": "stream",
     "text": [
      "Lakshmi\n",
      "you are welcome\n"
     ]
    }
   ],
   "source": [
    "names = [\"Ayush\",\"Ravi\",\"Bhageerath\",\"Lakshmi\",\"Prateek\",\"Soumya\",\"Prema\"]\n",
    "yourname = input()\n",
    "if yourname in names:\n",
    "    print(\"you are welcome\")"
   ]
  },
  {
   "cell_type": "code",
   "execution_count": 26,
   "metadata": {},
   "outputs": [
    {
     "name": "stdout",
     "output_type": "stream",
     "text": [
      "Soumya\n"
     ]
    }
   ],
   "source": [
    "names = [\"Ayush\",\"Ravi\",\"Bhageerath\",\"Lakshmi\",\"Prateek\",\"Soumya\",\"Prema\"]\n",
    "yourname = input()\n",
    "if yourname == \"Ayush\" or yourname == \"Lakshmi\":\n",
    "    print(\"you are welcome\")"
   ]
  },
  {
   "cell_type": "code",
   "execution_count": 27,
   "metadata": {},
   "outputs": [
    {
     "name": "stdout",
     "output_type": "stream",
     "text": [
      "100 121 144 169 196 225 256 289 324 361 400 "
     ]
    }
   ],
   "source": [
    "for val in range(10,21):\n",
    "    print(val*val, end = \" \")"
   ]
  },
  {
   "cell_type": "code",
   "execution_count": 33,
   "metadata": {},
   "outputs": [
    {
     "name": "stdout",
     "output_type": "stream",
     "text": [
      "1 1 4 2 9 3 16 4 25 5 36 6 49 7 64 8 81 9 100 10 121 11 144 12 169 13 196 14 225 15 256 16 289 17 324 18 361 19 400 20 "
     ]
    }
   ],
   "source": [
    "for num in range(1,401):\n",
    "    for val in range(1,num+1):\n",
    "        if (val*val) == num:\n",
    "            print(num,val,end=\" \")"
   ]
  },
  {
   "cell_type": "code",
   "execution_count": 38,
   "metadata": {},
   "outputs": [
    {
     "ename": "SyntaxError",
     "evalue": "invalid syntax (<ipython-input-38-21ebc694c029>, line 1)",
     "output_type": "error",
     "traceback": [
      "\u001b[1;36m  File \u001b[1;32m\"<ipython-input-38-21ebc694c029>\"\u001b[1;36m, line \u001b[1;32m1\u001b[0m\n\u001b[1;33m    find the distance between two points whose coordinates are (10,5,7), (20,9,6)\u001b[0m\n\u001b[1;37m         ^\u001b[0m\n\u001b[1;31mSyntaxError\u001b[0m\u001b[1;31m:\u001b[0m invalid syntax\n"
     ]
    }
   ],
   "source": [
    "#find the distance between two points whose coordinates are (10,5,7), (20,9,6) \n",
    "\n",
    "#square root of (x2-x1)^2 + (y2-y1)^2 + (z2-z1)^2"
   ]
  },
  {
   "cell_type": "code",
   "execution_count": 39,
   "metadata": {},
   "outputs": [
    {
     "name": "stdout",
     "output_type": "stream",
     "text": [
      "10.816653826391969\n"
     ]
    }
   ],
   "source": [
    "import math\n",
    "p1 = (10,5,7)\n",
    "p2 = (20,9,6)\n",
    "print(math.sqrt((p2[0]-p1[0])**2 + (p2[1]-p1[1])**2 + (p2[2]-p1[2])**2))"
   ]
  },
  {
   "cell_type": "code",
   "execution_count": 41,
   "metadata": {},
   "outputs": [
    {
     "name": "stdout",
     "output_type": "stream",
     "text": [
      "[23, 4, 5, 10]\n"
     ]
    }
   ],
   "source": [
    "mytuple = (23,4,5)\n",
    "x = list(mytuple)\n",
    "x.append(10)\n",
    "tuple(x)\n",
    "print(x)"
   ]
  },
  {
   "cell_type": "code",
   "execution_count": null,
   "metadata": {},
   "outputs": [],
   "source": []
  }
 ],
 "metadata": {
  "kernelspec": {
   "display_name": "Python 3",
   "language": "python",
   "name": "python3"
  },
  "language_info": {
   "codemirror_mode": {
    "name": "ipython",
    "version": 3
   },
   "file_extension": ".py",
   "mimetype": "text/x-python",
   "name": "python",
   "nbconvert_exporter": "python",
   "pygments_lexer": "ipython3",
   "version": "3.8.5"
  }
 },
 "nbformat": 4,
 "nbformat_minor": 4
}
