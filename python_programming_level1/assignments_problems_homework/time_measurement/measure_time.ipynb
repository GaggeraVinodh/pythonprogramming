{
 "cells": [
  {
   "cell_type": "code",
   "execution_count": 12,
   "metadata": {},
   "outputs": [
    {
     "name": "stdout",
     "output_type": "stream",
     "text": [
      "6\n",
      "28\n",
      "496\n",
      "8128\n",
      "3.2497246265411377\n"
     ]
    }
   ],
   "source": [
    "import time\n",
    "import math\n",
    "st = time.time()\n",
    "for num in range(1,10000):\n",
    "    total = 0\n",
    "    for val in range(1,num):\n",
    "        if num % val == 0:\n",
    "            total = total + val\n",
    "    if total == num:\n",
    "        print(num)\n",
    "et = time.time()\n",
    "print(et-st)"
   ]
  },
  {
   "cell_type": "code",
   "execution_count": 13,
   "metadata": {},
   "outputs": [
    {
     "name": "stdout",
     "output_type": "stream",
     "text": [
      "2 3 5 7 11 13 17 19 23 29 31 37 41 43 47 53 59 61 67 71 73 79 83 89 97 101 103 107 109 113 127 131 137 139 149 151 157 163 167 173 179 181 191 193 197 199 211 223 227 229 233 239 241 251 257 263 269 271 277 281 283 293 307 311 313 317 331 337 347 349 353 359 367 373 379 383 389 397 401 409 419 421 431 433 439 443 449 457 461 463 467 479 487 491 499 503 509 521 523 541 547 557 563 569 571 577 587 593 599 601 607 613 617 619 631 641 643 647 653 659 661 673 677 683 691 701 709 719 727 733 739 743 751 757 761 769 773 787 797 809 811 821 823 827 829 839 853 857 859 863 877 881 883 887 907 911 919 929 937 941 947 953 967 971 977 983 991 997 0.006799221038818359\n"
     ]
    }
   ],
   "source": [
    "import time\n",
    "import math\n",
    "st = time.time()\n",
    "for num in range(2,1000):\n",
    "    flag = 0\n",
    "    for val in range(2,num):#int(math.sqrt(num))+1):\n",
    "        if num % val == 0:\n",
    "            flag = 1\n",
    "            break\n",
    "    else:\n",
    "        print(num,end=\" \")\n",
    "et = time.time()\n",
    "print(et-st)"
   ]
  },
  {
   "cell_type": "code",
   "execution_count": 15,
   "metadata": {},
   "outputs": [
    {
     "name": "stdout",
     "output_type": "stream",
     "text": [
      "2 3 4 5 7 11 13 17 19 23 29 31 37 41 43 47 53 59 61 67 71 73 79 83 89 97 101 103 107 109 113 127 131 137 139 149 151 157 163 167 173 179 181 191 193 197 199 211 223 227 229 233 239 241 251 257 263 269 271 277 281 283 293 307 311 313 317 331 337 347 349 353 359 367 373 379 383 389 397 401 409 419 421 431 433 439 443 449 457 461 463 467 479 487 491 499 503 509 521 523 541 547 557 563 569 571 577 587 593 599 601 607 613 617 619 631 641 643 647 653 659 661 673 677 683 691 701 709 719 727 733 739 743 751 757 761 769 773 787 797 809 811 821 823 827 829 839 853 857 859 863 877 881 883 887 907 911 919 929 937 941 947 953 967 971 977 983 991 997 0.0020329952239990234\n"
     ]
    }
   ],
   "source": [
    "import time\n",
    "st = time.time()\n",
    "for num in range(2,1000):\n",
    "    flag = 0\n",
    "    for val in range(2,int(num/2)):\n",
    "        if num % val == 0:\n",
    "            flag = 1\n",
    "            break\n",
    "    else:\n",
    "        print(num,end=\" \")\n",
    "et = time.time()\n",
    "print(et-st)"
   ]
  },
  {
   "cell_type": "code",
   "execution_count": 20,
   "metadata": {},
   "outputs": [
    {
     "name": "stdout",
     "output_type": "stream",
     "text": [
      "2 3 4 5 7 11 13 17 19 23 29 31 37 41 43 47 53 59 61 67 71 73 79 83 89 97 101 103 107 109 113 127 131 137 139 149 151 157 163 167 173 179 181 191 193 197 199 211 223 227 229 233 239 241 251 257 263 269 271 277 281 283 293 307 311 313 317 331 337 347 349 353 359 367 373 379 383 389 397 401 409 419 421 431 433 439 443 449 457 461 463 467 479 487 491 499 503 509 521 523 541 547 557 563 569 571 577 587 593 599 601 607 613 617 619 631 641 643 647 653 659 661 673 677 683 691 701 709 719 727 733 739 743 751 757 761 769 773 787 797 809 811 821 823 827 829 839 853 857 859 863 877 881 883 887 907 911 919 929 937 941 947 953 967 971 977 983 991 997 0.004910469055175781\n"
     ]
    }
   ],
   "source": [
    "import time\n",
    "st = time.time()\n",
    "for num in range(2,1000):\n",
    "    flag = 0\n",
    "    for val in range(2,num//2):\n",
    "        if num % val == 0:\n",
    "            flag = 1\n",
    "            break\n",
    "    else:\n",
    "        print(num,end=\" \")\n",
    "et = time.time()\n",
    "print(et-st)"
   ]
  },
  {
   "cell_type": "code",
   "execution_count": 19,
   "metadata": {},
   "outputs": [
    {
     "name": "stdout",
     "output_type": "stream",
     "text": [
      "2 3 4 5 6 7 8 9 11 13 15 17 19 23 25 29 31 35 37 41 43 47 49 53 59 61 67 71 73 79 83 89 97 101 103 107 109 113 121 127 131 137 139 143 149 151 157 163 167 169 173 179 181 191 193 197 199 211 223 227 229 233 239 241 251 257 263 269 271 277 281 283 289 293 307 311 313 317 323 331 337 347 349 353 359 361 367 373 379 383 389 397 401 409 419 421 431 433 439 443 449 457 461 463 467 479 487 491 499 503 509 521 523 529 541 547 557 563 569 571 577 587 593 599 601 607 613 617 619 631 641 643 647 653 659 661 673 677 683 691 701 709 719 727 733 739 743 751 757 761 769 773 787 797 809 811 821 823 827 829 839 841 853 857 859 863 877 881 883 887 899 907 911 919 929 937 941 947 953 961 967 971 977 983 991 997 0.002014636993408203\n"
     ]
    }
   ],
   "source": [
    "import time\n",
    "import math\n",
    "st = time.time()\n",
    "for num in range(2,1000):\n",
    "    flag = 0\n",
    "    for val in range(2,int(math.sqrt(num))):\n",
    "        if num % val == 0:\n",
    "            flag = 1\n",
    "            break\n",
    "    else:\n",
    "        print(num,end=\" \")\n",
    "et = time.time()\n",
    "print(et-st)"
   ]
  },
  {
   "cell_type": "code",
   "execution_count": 21,
   "metadata": {},
   "outputs": [
    {
     "name": "stdout",
     "output_type": "stream",
     "text": [
      "Give a number31\n",
      "31 94 47 142 71 214 107 322 161 484 242 121 364 182 91 274 137 412 206 103 310 155 466 233 700 350 175 526 263 790 395 1186 593 1780 890 445 1336 668 334 167 502 251 754 377 1132 566 283 850 425 1276 638 319 958 479 1438 719 2158 1079 3238 1619 4858 2429 7288 3644 1822 911 2734 1367 4102 2051 6154 3077 9232 4616 2308 1154 577 1732 866 433 1300 650 325 976 488 244 122 61 184 92 46 23 70 35 106 53 160 80 40 20 10 5 16 8 4 2 1 4.004190921783447\n"
     ]
    }
   ],
   "source": [
    "import time\n",
    "import math\n",
    "st = time.time()\n",
    "num = int(input(\"Give a number\"))\n",
    "print(num, end = \" \")\n",
    "while(1):\n",
    "    if(num%2 == 0):\n",
    "        num = num // 2\n",
    "        print(num, end = \" \")\n",
    "    else:\n",
    "        num = num*3+1\n",
    "        print(num, end = \" \")\n",
    "    if num==1:\n",
    "        break\n",
    "et = time.time()\n",
    "print(et-st)"
   ]
  },
  {
   "cell_type": "code",
   "execution_count": 28,
   "metadata": {},
   "outputs": [
    {
     "name": "stdout",
     "output_type": "stream",
     "text": [
      "0 1 1 2 3 5 8 13 21 34 55 89 144 233 377 610 987 1597 \n",
      "0.0009970664978027344\n"
     ]
    }
   ],
   "source": [
    "import time\n",
    "import math\n",
    "st = time.time()\n",
    "def fib(n):\n",
    "    a, b = 0, 1\n",
    "    while a < n:\n",
    "        print(a, end=' ')\n",
    "        a, b = b, a+b\n",
    "    print()\n",
    "fib(2000)\n",
    "et = time.time()\n",
    "print(et-st)"
   ]
  }
 ],
 "metadata": {
  "kernelspec": {
   "display_name": "Python 3 (ipykernel)",
   "language": "python",
   "name": "python3"
  },
  "language_info": {
   "codemirror_mode": {
    "name": "ipython",
    "version": 3
   },
   "file_extension": ".py",
   "mimetype": "text/x-python",
   "name": "python",
   "nbconvert_exporter": "python",
   "pygments_lexer": "ipython3",
   "version": "3.10.9"
  }
 },
 "nbformat": 4,
 "nbformat_minor": 4
}
