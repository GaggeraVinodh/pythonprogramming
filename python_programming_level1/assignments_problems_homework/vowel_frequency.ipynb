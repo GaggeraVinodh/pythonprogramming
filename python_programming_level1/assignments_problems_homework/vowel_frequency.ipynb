{
 "cells": [
  {
   "cell_type": "code",
   "execution_count": null,
   "id": "bd743943",
   "metadata": {},
   "outputs": [],
   "source": [
    "mystr = \"This python session is very interesting\"\n",
    "mystr = mystr.lower()\n",
    "countdict = {\"a\":0, \"e\": 0, \"i\":0, \"o\":0, \"u\":0}\n",
    "for ch in mystr:\n",
    "    if ch in \"aeiou\":\n",
    "        countdict[ch] = countdict[ch] + 1\n",
    "print(countdict)"
   ]
  }
 ],
 "metadata": {
  "kernelspec": {
   "display_name": "Python 3 (ipykernel)",
   "language": "python",
   "name": "python3"
  },
  "language_info": {
   "codemirror_mode": {
    "name": "ipython",
    "version": 3
   },
   "file_extension": ".py",
   "mimetype": "text/x-python",
   "name": "python",
   "nbconvert_exporter": "python",
   "pygments_lexer": "ipython3",
   "version": "3.9.13"
  }
 },
 "nbformat": 4,
 "nbformat_minor": 5
}
