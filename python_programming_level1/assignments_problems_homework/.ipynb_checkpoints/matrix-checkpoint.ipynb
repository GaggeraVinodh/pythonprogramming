{
 "cells": [
  {
   "cell_type": "code",
   "execution_count": 5,
   "id": "0c9d5c8e",
   "metadata": {},
   "outputs": [
    {
     "name": "stdout",
     "output_type": "stream",
     "text": [
      "23\n",
      "56\n",
      "78\n",
      "7\n",
      "[[23, 56], [78, 7]]\n"
     ]
    }
   ],
   "source": [
    "# initializing an empty matrix\n",
    "matrix = []\n",
    "# taking 2x2 matrix from the user\n",
    "for i in range(2):\n",
    "   # empty row\n",
    "   row = []\n",
    "   for j in range(2):\n",
    "      # asking the user to input the number\n",
    "      # converts the input to int as the default one is string\n",
    "      element = int(input())\n",
    "      # appending the element to the 'row'\n",
    "      row.append(element)\n",
    "   # appending the 'row' to the 'matrix'\n",
    "   matrix.append(row)\n",
    "# printing the matrix\n",
    "print(matrix)"
   ]
  },
  {
   "cell_type": "code",
   "execution_count": 3,
   "id": "c1979351",
   "metadata": {},
   "outputs": [],
   "source": [
    "# Program to multiply two matrices using nested loops\n",
    "\n",
    "# 4x3 matrix\n",
    "X = [[12,7,3],\n",
    "    [4 ,5,6],\n",
    "    [7 ,8,9],\n",
    "    [4,56,7]]\n",
    "# 3x4 matrix\n",
    "Y = [[5,8,1,2],\n",
    "    [6,7,3,0],\n",
    "    [4,5,9,1]]\n",
    "# result is 3x4\n",
    "result = [[0,0,0,0],\n",
    "         [0,0,0,0],\n",
    "         [0,0,0,0],\n",
    "         [0,0,0,0]]"
   ]
  },
  {
   "cell_type": "code",
   "execution_count": 4,
   "id": "f0106e2f",
   "metadata": {},
   "outputs": [
    {
     "name": "stdout",
     "output_type": "stream",
     "text": [
      "[114, 160, 60, 27]\n",
      "[74, 97, 73, 14]\n",
      "[119, 157, 112, 23]\n",
      "[384, 459, 235, 15]\n"
     ]
    }
   ],
   "source": [
    "# iterate through rows of X\n",
    "for i in range(len(X)):\n",
    "   # iterate through columns of Y\n",
    "   for j in range(len(Y[0])):\n",
    "       # iterate through rows of Y\n",
    "       for k in range(len(Y)):\n",
    "           result[i][j] += X[i][k] * Y[k][j]\n",
    "\n",
    "for r in result:\n",
    "   print(r)"
   ]
  },
  {
   "cell_type": "code",
   "execution_count": null,
   "id": "4808a32e",
   "metadata": {},
   "outputs": [],
   "source": []
  }
 ],
 "metadata": {
  "kernelspec": {
   "display_name": "Python 3 (ipykernel)",
   "language": "python",
   "name": "python3"
  },
  "language_info": {
   "codemirror_mode": {
    "name": "ipython",
    "version": 3
   },
   "file_extension": ".py",
   "mimetype": "text/x-python",
   "name": "python",
   "nbconvert_exporter": "python",
   "pygments_lexer": "ipython3",
   "version": "3.9.7"
  }
 },
 "nbformat": 4,
 "nbformat_minor": 5
}
