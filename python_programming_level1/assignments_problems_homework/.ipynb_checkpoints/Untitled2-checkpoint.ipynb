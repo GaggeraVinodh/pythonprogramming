{
 "cells": [
  {
   "cell_type": "code",
   "execution_count": 13,
   "id": "2083442d",
   "metadata": {},
   "outputs": [
    {
     "name": "stdout",
     "output_type": "stream",
     "text": [
      "2 3 5 7 11 13 17 19 23 29 31 37 41 43 47 53 59 61 67 71 73 79 83 89 97 "
     ]
    }
   ],
   "source": [
    "def SieveOfEratosthenes(q):\n",
    "   primelist = [True for i in range(q + 1)]\n",
    "   s = 2\n",
    "   while (s * s <= q):\n",
    "      if (primelist[s] == True):\n",
    "         for i in range(s * 2, q + 1, s):\n",
    "            primelist[i] = False\n",
    "      s = s + 1\n",
    "   primelist[0]= False\n",
    "   primelist[1]= False\n",
    "   # Print\n",
    "   for val in range(q + 1):\n",
    "      if primelist[val]:\n",
    "         print (val,end=\" \")\n",
    "\n",
    "p = 100\n",
    "SieveOfEratosthenes(p)"
   ]
  },
  {
   "cell_type": "code",
   "execution_count": 8,
   "id": "bcae3c9b",
   "metadata": {},
   "outputs": [
    {
     "name": "stdout",
     "output_type": "stream",
     "text": [
      "The prime numbers smaller than or equal to 100 is\n",
      "2 3 5 7 11 13 17 19 23 29 31 37 41 43 47 53 59 61 67 71 73 79 83 89 97 "
     ]
    }
   ],
   "source": [
    "def SieveOfEratosthenes(n):\n",
    "   # array of type boolean with True values in it\n",
    "   prime = [True for i in range(n + 1)]\n",
    "   p = 2\n",
    "   while (p * p <= n):\n",
    "      # If it remain unchanged it is prime\n",
    "      if (prime[p] == True):\n",
    "         # updating all the multiples\n",
    "         for i in range(p * 2, n + 1, p):\n",
    "            prime[i] = False\n",
    "      p += 1\n",
    "   prime[0]= False\n",
    "   prime[1]= False\n",
    "   # Print\n",
    "   for p in range(n + 1):\n",
    "      if prime[p]:\n",
    "         print (p,end=\" \")\n",
    "\n",
    "n = 100\n",
    "print (\"The prime numbers smaller than or equal to\", n,\"is\")\n",
    "SieveOfEratosthenes(n)"
   ]
  },
  {
   "cell_type": "code",
   "execution_count": null,
   "id": "23650456",
   "metadata": {},
   "outputs": [],
   "source": []
  }
 ],
 "metadata": {
  "kernelspec": {
   "display_name": "Python 3 (ipykernel)",
   "language": "python",
   "name": "python3"
  },
  "language_info": {
   "codemirror_mode": {
    "name": "ipython",
    "version": 3
   },
   "file_extension": ".py",
   "mimetype": "text/x-python",
   "name": "python",
   "nbconvert_exporter": "python",
   "pygments_lexer": "ipython3",
   "version": "3.9.7"
  }
 },
 "nbformat": 4,
 "nbformat_minor": 5
}
