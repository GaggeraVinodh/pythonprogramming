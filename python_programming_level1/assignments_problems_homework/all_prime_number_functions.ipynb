{
 "cells": [
  {
   "cell_type": "code",
   "execution_count": null,
   "id": "a3f06815",
   "metadata": {},
   "outputs": [],
   "source": [
    "# print all the primes from 1 to 200\n",
    "for num in range(2,200):\n",
    "    flag = 0\n",
    "    for val in range(2,num):\n",
    "        if num % val == 0:\n",
    "            flag = 1\n",
    "            break\n",
    "    if flag == 0:\n",
    "        print(num,end=\" \")"
   ]
  },
  {
   "cell_type": "code",
   "execution_count": null,
   "id": "409baafe",
   "metadata": {},
   "outputs": [],
   "source": [
    "# print all the primes from 1 to 200\n",
    "for num in range(2,200):\n",
    "    flag = 0\n",
    "    for val in range(2,num):\n",
    "        if num % val == 0:\n",
    "            flag = 1\n",
    "            break\n",
    "    else:\n",
    "        print(num,end=\" \")"
   ]
  },
  {
   "cell_type": "code",
   "execution_count": null,
   "id": "84e3a87d",
   "metadata": {},
   "outputs": [],
   "source": [
    "# print all the primes from 1 to 200\n",
    "for num in range(2,200):\n",
    "    flag = 0\n",
    "    for val in range(2,num//2):\n",
    "        if num % val == 0:\n",
    "            flag = 1\n",
    "            break\n",
    "    else:\n",
    "        print(num,end=\" \")"
   ]
  },
  {
   "cell_type": "code",
   "execution_count": null,
   "id": "d3f88680",
   "metadata": {},
   "outputs": [],
   "source": [
    "# print all the primes from 1 to 200\n",
    "for num in range(2,200):\n",
    "    flag = 0\n",
    "    for val in range(2,int(num/2)):\n",
    "        if num % val == 0:\n",
    "            flag = 1\n",
    "            break\n",
    "    else:\n",
    "        print(num,end=\" \")"
   ]
  },
  {
   "cell_type": "code",
   "execution_count": null,
   "id": "70ad76c5",
   "metadata": {},
   "outputs": [],
   "source": [
    "#Big(O) notation\n",
    "import math\n",
    "for val in range(2,101):\n",
    "    flag = 0\n",
    "    for num in range(2,int(math.sqrt(val)+1)):\n",
    "        if val % num == 0:\n",
    "            flag = 1\n",
    "            break\n",
    "    else:\n",
    "        print(val,end = \" \")"
   ]
  },
  {
   "cell_type": "code",
   "execution_count": null,
   "id": "af7c78f1",
   "metadata": {},
   "outputs": [],
   "source": [
    "def genprimes(x):\n",
    "    # print all the primes from 1 to 200\n",
    "    newset = set() \n",
    "    for num in range(2,x):\n",
    "        flag = 0\n",
    "        for val in range(2,num):\n",
    "            if num % val == 0:\n",
    "                flag = 1\n",
    "                break\n",
    "        if flag == 0:\n",
    "            newset.add(num)\n",
    "    return newset\n",
    "            \n",
    "num = int(input(\"Give a number\"))\n",
    "ret = genprimes(num)\n",
    "print(ret)"
   ]
  },
  {
   "cell_type": "code",
   "execution_count": null,
   "id": "3d470319",
   "metadata": {},
   "outputs": [],
   "source": []
  }
 ],
 "metadata": {
  "kernelspec": {
   "display_name": "Python 3 (ipykernel)",
   "language": "python",
   "name": "python3"
  },
  "language_info": {
   "codemirror_mode": {
    "name": "ipython",
    "version": 3
   },
   "file_extension": ".py",
   "mimetype": "text/x-python",
   "name": "python",
   "nbconvert_exporter": "python",
   "pygments_lexer": "ipython3",
   "version": "3.9.13"
  }
 },
 "nbformat": 4,
 "nbformat_minor": 5
}
