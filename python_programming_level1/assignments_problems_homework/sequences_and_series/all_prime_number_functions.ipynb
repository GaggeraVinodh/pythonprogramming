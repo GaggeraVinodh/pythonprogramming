{
 "cells": [
  {
   "cell_type": "code",
   "execution_count": 1,
   "id": "a3f06815",
   "metadata": {},
   "outputs": [
    {
     "name": "stdout",
     "output_type": "stream",
     "text": [
      "2 3 5 7 11 13 17 19 23 29 31 37 41 43 47 53 59 61 67 71 73 79 83 89 97 101 103 107 109 113 127 131 137 139 149 151 157 163 167 173 179 181 191 193 197 199 "
     ]
    }
   ],
   "source": [
    "# print all the primes from 1 to 200\n",
    "for num in range(2,200):\n",
    "    flag = 0\n",
    "    for val in range(2,num):\n",
    "        if num % val == 0:\n",
    "            flag = 1\n",
    "            break\n",
    "    if flag == 0:\n",
    "        print(num,end=\" \")"
   ]
  },
  {
   "cell_type": "code",
   "execution_count": 7,
   "id": "b96933f9",
   "metadata": {},
   "outputs": [
    {
     "ename": "NameError",
     "evalue": "name 'number' is not defined",
     "output_type": "error",
     "traceback": [
      "\u001b[1;31m---------------------------------------------------------------------------\u001b[0m",
      "\u001b[1;31mNameError\u001b[0m                                 Traceback (most recent call last)",
      "Cell \u001b[1;32mIn[7], line 16\u001b[0m\n\u001b[0;32m     13\u001b[0m             result\u001b[38;5;241m.\u001b[39mappend(i)\n\u001b[0;32m     14\u001b[0m         \u001b[38;5;28;01mreturn\u001b[39;00m result\n\u001b[1;32m---> 16\u001b[0m \u001b[43mnon_prime_numbers_till_n\u001b[49m\u001b[43m(\u001b[49m\u001b[38;5;241;43m10\u001b[39;49m\u001b[43m)\u001b[49m\n",
      "Cell \u001b[1;32mIn[7], line 3\u001b[0m, in \u001b[0;36mnon_prime_numbers_till_n\u001b[1;34m(n)\u001b[0m\n\u001b[0;32m      1\u001b[0m \u001b[38;5;28;01mdef\u001b[39;00m \u001b[38;5;21mnon_prime_numbers_till_n\u001b[39m(n):\n\u001b[0;32m      2\u001b[0m     primes \u001b[38;5;241m=\u001b[39m \u001b[38;5;28mset\u001b[39m()\n\u001b[1;32m----> 3\u001b[0m     \u001b[38;5;28;01mfor\u001b[39;00m num \u001b[38;5;129;01min\u001b[39;00m \u001b[38;5;28mrange\u001b[39m(\u001b[38;5;241m2\u001b[39m,\u001b[43mnumber\u001b[49m \u001b[38;5;241m+\u001b[39m \u001b[38;5;241m1\u001b[39m):\n\u001b[0;32m      4\u001b[0m         \u001b[38;5;28;01mif\u001b[39;00m num \u001b[38;5;241m>\u001b[39m \u001b[38;5;241m1\u001b[39m:\n\u001b[0;32m      5\u001b[0m            \u001b[38;5;28;01mfor\u001b[39;00m i \u001b[38;5;129;01min\u001b[39;00m \u001b[38;5;28mrange\u001b[39m(\u001b[38;5;241m2\u001b[39m, math\u001b[38;5;241m.\u001b[39msqrt(num)):\n",
      "\u001b[1;31mNameError\u001b[0m: name 'number' is not defined"
     ]
    }
   ],
   "source": [
    "def non_prime_numbers_till_n(n):\n",
    "    primes = set()\n",
    "    for num in range(2,number + 1):\n",
    "        if num > 1:\n",
    "           for i in range(2, math.sqrt(num)):\n",
    "               if (num % i) == 0:\n",
    "                  break\n",
    "               else:\n",
    "                  primes.add(num)\n",
    "    result = []\n",
    "    for i in range(1, n):\n",
    "        if i not in primes:\n",
    "            result.append(i)\n",
    "        return result\n",
    "\n",
    "non_prime_numbers_till_n(10)"
   ]
  },
  {
   "cell_type": "code",
   "execution_count": null,
   "id": "409baafe",
   "metadata": {},
   "outputs": [],
   "source": [
    "# print all the primes from 1 to 200\n",
    "for num in range(2,200):\n",
    "    flag = 0\n",
    "    for val in range(2,num):\n",
    "        if num % val == 0:\n",
    "            flag = 1\n",
    "            break\n",
    "    else:\n",
    "        print(num,end=\" \")"
   ]
  },
  {
   "cell_type": "code",
   "execution_count": null,
   "id": "84e3a87d",
   "metadata": {},
   "outputs": [],
   "source": [
    "# print all the primes from 1 to 200\n",
    "for num in range(2,200):\n",
    "    flag = 0\n",
    "    for val in range(2,num//2):\n",
    "        if num % val == 0:\n",
    "            flag = 1\n",
    "            break\n",
    "    else:\n",
    "        print(num,end=\" \")"
   ]
  },
  {
   "cell_type": "code",
   "execution_count": null,
   "id": "d3f88680",
   "metadata": {},
   "outputs": [],
   "source": [
    "# print all the primes from 1 to 200\n",
    "for num in range(2,200):\n",
    "    flag = 0\n",
    "    for val in range(2,int(num/2)):\n",
    "        if num % val == 0:\n",
    "            flag = 1\n",
    "            break\n",
    "    else:\n",
    "        print(num,end=\" \")"
   ]
  },
  {
   "cell_type": "code",
   "execution_count": null,
   "id": "70ad76c5",
   "metadata": {},
   "outputs": [],
   "source": [
    "#Big(O) notation\n",
    "import math\n",
    "for val in range(2,101):\n",
    "    flag = 0\n",
    "    for num in range(2,int(math.sqrt(val)+1)):\n",
    "        if val % num == 0:\n",
    "            flag = 1\n",
    "            break\n",
    "    else:\n",
    "        print(val,end = \" \")"
   ]
  },
  {
   "cell_type": "code",
   "execution_count": null,
   "id": "af7c78f1",
   "metadata": {},
   "outputs": [],
   "source": [
    "def genprimes(x):\n",
    "    # print all the primes from 1 to 200\n",
    "    newset = set() \n",
    "    for num in range(2,x):\n",
    "        flag = 0\n",
    "        for val in range(2,num):\n",
    "            if num % val == 0:\n",
    "                flag = 1\n",
    "                break\n",
    "        if flag == 0:\n",
    "            newset.add(num)\n",
    "    return newset\n",
    "            \n",
    "num = int(input(\"Give a number\"))\n",
    "ret = genprimes(num)\n",
    "print(ret)"
   ]
  },
  {
   "cell_type": "code",
   "execution_count": null,
   "id": "3d470319",
   "metadata": {},
   "outputs": [],
   "source": []
  }
 ],
 "metadata": {
  "kernelspec": {
   "display_name": "Python 3 (ipykernel)",
   "language": "python",
   "name": "python3"
  },
  "language_info": {
   "codemirror_mode": {
    "name": "ipython",
    "version": 3
   },
   "file_extension": ".py",
   "mimetype": "text/x-python",
   "name": "python",
   "nbconvert_exporter": "python",
   "pygments_lexer": "ipython3",
   "version": "3.10.13"
  }
 },
 "nbformat": 4,
 "nbformat_minor": 5
}
