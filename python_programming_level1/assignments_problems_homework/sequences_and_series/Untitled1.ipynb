{
 "cells": [
  {
   "cell_type": "code",
   "execution_count": 9,
   "id": "69689402",
   "metadata": {},
   "outputs": [],
   "source": [
    "myset = {45,22,21,67}"
   ]
  },
  {
   "cell_type": "code",
   "execution_count": 10,
   "id": "6bdb2f60",
   "metadata": {},
   "outputs": [],
   "source": [
    "myset.remove(45)"
   ]
  },
  {
   "cell_type": "code",
   "execution_count": 11,
   "id": "b2dafb14",
   "metadata": {},
   "outputs": [
    {
     "data": {
      "text/plain": [
       "{21, 22, 67}"
      ]
     },
     "execution_count": 11,
     "metadata": {},
     "output_type": "execute_result"
    }
   ],
   "source": [
    "myset"
   ]
  },
  {
   "cell_type": "code",
   "execution_count": 13,
   "id": "b1bf873e",
   "metadata": {},
   "outputs": [],
   "source": [
    "myset.update([55])"
   ]
  },
  {
   "cell_type": "code",
   "execution_count": 14,
   "id": "68254326",
   "metadata": {},
   "outputs": [
    {
     "data": {
      "text/plain": [
       "{21, 22, 55, 67}"
      ]
     },
     "execution_count": 14,
     "metadata": {},
     "output_type": "execute_result"
    }
   ],
   "source": [
    "myset"
   ]
  },
  {
   "cell_type": "code",
   "execution_count": 16,
   "id": "0860ad90",
   "metadata": {},
   "outputs": [],
   "source": [
    "myset.update([87,78])"
   ]
  },
  {
   "cell_type": "code",
   "execution_count": null,
   "id": "efef186c",
   "metadata": {},
   "outputs": [],
   "source": []
  }
 ],
 "metadata": {
  "kernelspec": {
   "display_name": "Python 3 (ipykernel)",
   "language": "python",
   "name": "python3"
  },
  "language_info": {
   "codemirror_mode": {
    "name": "ipython",
    "version": 3
   },
   "file_extension": ".py",
   "mimetype": "text/x-python",
   "name": "python",
   "nbconvert_exporter": "python",
   "pygments_lexer": "ipython3",
   "version": "3.10.9"
  }
 },
 "nbformat": 4,
 "nbformat_minor": 5
}
