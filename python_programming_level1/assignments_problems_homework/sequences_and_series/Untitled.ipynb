{
 "cells": [
  {
   "cell_type": "code",
   "execution_count": null,
   "id": "8d129670",
   "metadata": {},
   "outputs": [],
   "source": [
    "def lookandsaysequence(num):\n",
    "    def nextnumber(sval):\n",
    "        result = []\n",
    "        lcn = 0\n",
    "        while lcn < len(sval):\n",
    "            count = 1\n",
    "            while ((lcn+1) < len(sval) and sval[lcn]==sval[lcn+1]):\n",
    "                lcn = lcn + 1\n",
    "                count = count + 1\n",
    "            result.append(str(count)+sval[lcn])\n",
    "            lcn + lcn + 1\n",
    "        return ''.join(result)\n",
    "    seed = '1'\n",
    "    for _ in range(1,num):\n",
    "        seed = nextnumber(seed)\n",
    "    return seed\n",
    "\n",
    "for val in range(1,int(input(\"How many look and say numbers you want \"))+1):\n",
    "    number = lookandsaysequence(val)\n",
    "    print(number)"
   ]
  },
  {
   "cell_type": "code",
   "execution_count": null,
   "id": "ca4d4063",
   "metadata": {},
   "outputs": [],
   "source": []
  }
 ],
 "metadata": {
  "kernelspec": {
   "display_name": "Python 3 (ipykernel)",
   "language": "python",
   "name": "python3"
  },
  "language_info": {
   "codemirror_mode": {
    "name": "ipython",
    "version": 3
   },
   "file_extension": ".py",
   "mimetype": "text/x-python",
   "name": "python",
   "nbconvert_exporter": "python",
   "pygments_lexer": "ipython3",
   "version": "3.10.9"
  }
 },
 "nbformat": 4,
 "nbformat_minor": 5
}
