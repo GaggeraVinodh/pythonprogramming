{
 "cells": [
  {
   "cell_type": "code",
   "execution_count": null,
   "id": "205eb266",
   "metadata": {},
   "outputs": [],
   "source": []
  },
  {
   "cell_type": "code",
   "execution_count": 5,
   "id": "7add63f4",
   "metadata": {},
   "outputs": [],
   "source": [
    "def eratosthenes(n):\n",
    "    primes = list (range(2, n+1))\n",
    "    for i in primes:\n",
    "        j=2\n",
    "        while i*j<= primes[-1]:\n",
    "            if i*j in primes:\n",
    "                primes.remove(i*j)\n",
    "            j=j+1\n",
    "    return primes\n",
    "\n",
    "def odd_primes(N):\n",
    "    oddprimes = eratosthenes(N)\n",
    "    oddprimes.remove(2)\n",
    "    return(oddprimes)\n",
    "\n",
    "def goldbach(N):\n",
    "    x, y = 0, 0\n",
    "    result = 0\n",
    "    if N % 2 == 0:\n",
    "        prime = odd_primes(N)\n",
    "        while result != N:\n",
    "            for i in range(len(prime)):\n",
    "                if result == N: break \n",
    "                x = prime[i]\n",
    "                for j in range(len(prime)):\n",
    "                    y = prime[j]\n",
    "                    result = x + y\n",
    "                    if result == N: break \n",
    "    return x, y "
   ]
  },
  {
   "cell_type": "code",
   "execution_count": 8,
   "id": "39884dab",
   "metadata": {},
   "outputs": [
    {
     "name": "stdout",
     "output_type": "stream",
     "text": [
      "3 97\n"
     ]
    }
   ],
   "source": [
    "x, y = goldbach(100)\n",
    "print(x,y)"
   ]
  },
  {
   "cell_type": "code",
   "execution_count": null,
   "id": "46295242",
   "metadata": {},
   "outputs": [],
   "source": []
  }
 ],
 "metadata": {
  "kernelspec": {
   "display_name": "Python 3 (ipykernel)",
   "language": "python",
   "name": "python3"
  },
  "language_info": {
   "codemirror_mode": {
    "name": "ipython",
    "version": 3
   },
   "file_extension": ".py",
   "mimetype": "text/x-python",
   "name": "python",
   "nbconvert_exporter": "python",
   "pygments_lexer": "ipython3",
   "version": "3.9.13"
  }
 },
 "nbformat": 4,
 "nbformat_minor": 5
}
