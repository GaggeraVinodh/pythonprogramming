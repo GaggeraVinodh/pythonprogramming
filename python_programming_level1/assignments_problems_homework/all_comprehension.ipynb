{
 "cells": [
  {
   "cell_type": "code",
   "execution_count": null,
   "id": "2fc4fc88",
   "metadata": {},
   "outputs": [],
   "source": [
    "newlist = [0,1,2,3,4,5,6,7,8,9]\n",
    "print(newlist)"
   ]
  },
  {
   "cell_type": "code",
   "execution_count": 1,
   "id": "44123b88",
   "metadata": {},
   "outputs": [
    {
     "name": "stdout",
     "output_type": "stream",
     "text": [
      "[0, 1, 2, 3, 4, 5, 6, 7, 8, 9, 10]\n"
     ]
    }
   ],
   "source": [
    "newlist = [x for x in range(0,11)] \n",
    "print(newlist)"
   ]
  },
  {
   "cell_type": "code",
   "execution_count": null,
   "id": "c2df259b",
   "metadata": {},
   "outputs": [],
   "source": [
    "print([x*x for x in range(11)])"
   ]
  },
  {
   "cell_type": "code",
   "execution_count": null,
   "id": "982715cf",
   "metadata": {},
   "outputs": [],
   "source": [
    "print([x ** 2 for x in range(101) if x % 2 == 1])\n",
    "for num in range(0,101):\n",
    "    if num % 2 == 1:\n",
    "        print(num*num,end=\" \")"
   ]
  },
  {
   "cell_type": "code",
   "execution_count": null,
   "id": "e4ea6191",
   "metadata": {},
   "outputs": [],
   "source": [
    "print({x:x*x for x in range(50)})"
   ]
  },
  {
   "cell_type": "code",
   "execution_count": null,
   "id": "293c79c3",
   "metadata": {},
   "outputs": [],
   "source": [
    "print({x*x for x in range(50)})"
   ]
  },
  {
   "cell_type": "code",
   "execution_count": null,
   "id": "df483cd9",
   "metadata": {},
   "outputs": [],
   "source": [
    "newtuple = (x*x for x in range(11))\n",
    "print(newtuple)"
   ]
  },
  {
   "cell_type": "code",
   "execution_count": null,
   "id": "cadccda4",
   "metadata": {},
   "outputs": [],
   "source": []
  }
 ],
 "metadata": {
  "kernelspec": {
   "display_name": "Python 3 (ipykernel)",
   "language": "python",
   "name": "python3"
  },
  "language_info": {
   "codemirror_mode": {
    "name": "ipython",
    "version": 3
   },
   "file_extension": ".py",
   "mimetype": "text/x-python",
   "name": "python",
   "nbconvert_exporter": "python",
   "pygments_lexer": "ipython3",
   "version": "3.9.13"
  }
 },
 "nbformat": 4,
 "nbformat_minor": 5
}
