{
 "cells": [
  {
   "cell_type": "code",
   "execution_count": 2,
   "id": "047cf869",
   "metadata": {},
   "outputs": [
    {
     "ename": "IndentationError",
     "evalue": "expected an indented block (Temp/ipykernel_7260/706345625.py, line 21)",
     "output_type": "error",
     "traceback": [
      "\u001b[1;36m  File \u001b[1;32m\"C:\\Users\\Gururaj\\AppData\\Local\\Temp/ipykernel_7260/706345625.py\"\u001b[1;36m, line \u001b[1;32m21\u001b[0m\n\u001b[1;33m    mid = mid + 1\u001b[0m\n\u001b[1;37m    ^\u001b[0m\n\u001b[1;31mIndentationError\u001b[0m\u001b[1;31m:\u001b[0m expected an indented block\n"
     ]
    }
   ],
   "source": [
    "\n",
    "\n",
    "# Python program to sort an array with\n",
    "# 0, 1 and 2 in a single pass\n",
    "\n",
    "# Function to sort array\n",
    "\n",
    "\n",
    "def sort012(a, arr_size):\n",
    "    lo = 0\n",
    "    hi = arr_size - 1\n",
    "    mid = 0\n",
    "    # Iterate till all the elements\n",
    "    # are sorted\n",
    "    while mid <= hi:\n",
    "        # If the element is 0\n",
    "        if a[mid] == 0:\n",
    "            a[lo], a[mid] = a[mid], a[lo]\n",
    "            lo = lo + 1\n",
    "            mid = mid + 1\n",
    "        # If the element is 1\n",
    "        elif a[mid] == 1:\n",
    "        mid = mid + 1\n",
    "        # If the element is 2\n",
    "        else:\n",
    "        a[mid], a[hi] = a[hi], a[mid]\n",
    "        hi = hi - 1\n",
    "    return a\n",
    "\n",
    "# Function to print array\n",
    "\n",
    "\n",
    "def printArray(a):\n",
    "    for k in a:\n",
    "        print(k, end=' ')\n",
    "\n",
    "\n",
    "# Driver Program\n",
    "arr = [0, 1, 1, 0, 1, 2, 1, 2, 0, 0, 0, 1]\n",
    "arr_size = len(arr)\n",
    "arr = sort012(arr, arr_size)\n",
    "printArray(arr)\n",
    "\n",
    "# Contributed by Harshit Agrawal\n"
   ]
  },
  {
   "cell_type": "code",
   "execution_count": null,
   "id": "b673d1f2",
   "metadata": {},
   "outputs": [],
   "source": []
  }
 ],
 "metadata": {
  "kernelspec": {
   "display_name": "Python 3 (ipykernel)",
   "language": "python",
   "name": "python3"
  },
  "language_info": {
   "codemirror_mode": {
    "name": "ipython",
    "version": 3
   },
   "file_extension": ".py",
   "mimetype": "text/x-python",
   "name": "python",
   "nbconvert_exporter": "python",
   "pygments_lexer": "ipython3",
   "version": "3.9.7"
  }
 },
 "nbformat": 4,
 "nbformat_minor": 5
}
