{
 "cells": [
  {
   "cell_type": "code",
   "execution_count": null,
   "id": "d20a7ce5",
   "metadata": {},
   "outputs": [],
   "source": [
    "#numbers from 1 to 100 which are divided by 7"
   ]
  },
  {
   "cell_type": "code",
   "execution_count": 4,
   "id": "22004438",
   "metadata": {},
   "outputs": [
    {
     "name": "stdout",
     "output_type": "stream",
     "text": [
      "[7, 14, 21, 28, 35, 42, 49, 56, 63, 70, 77, 84, 91, 98]\n"
     ]
    }
   ],
   "source": [
    "divisor = []\n",
    "for val in range(1,101):\n",
    "    if val % 7 == 0:\n",
    "        divisor.append(val)\n",
    "print(divisor)"
   ]
  },
  {
   "cell_type": "code",
   "execution_count": 3,
   "id": "a212660e",
   "metadata": {},
   "outputs": [
    {
     "name": "stdout",
     "output_type": "stream",
     "text": [
      "7 14 21 28 35 42 49 56 63 70 77 84 91 98 "
     ]
    }
   ],
   "source": [
    "for val in range(7,101,7):\n",
    "    print(val,end=\" \")"
   ]
  },
  {
   "cell_type": "code",
   "execution_count": null,
   "id": "8315e451",
   "metadata": {},
   "outputs": [],
   "source": [
    "6 = 1,2,3 1+2+3 = 6\n",
    "28 = 1,2,4,7,14 = 28"
   ]
  }
 ],
 "metadata": {
  "kernelspec": {
   "display_name": "Python 3 (ipykernel)",
   "language": "python",
   "name": "python3"
  },
  "language_info": {
   "codemirror_mode": {
    "name": "ipython",
    "version": 3
   },
   "file_extension": ".py",
   "mimetype": "text/x-python",
   "name": "python",
   "nbconvert_exporter": "python",
   "pygments_lexer": "ipython3",
   "version": "3.9.7"
  }
 },
 "nbformat": 4,
 "nbformat_minor": 5
}
