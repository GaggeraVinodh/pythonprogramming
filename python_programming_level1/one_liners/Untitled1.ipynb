{
 "cells": [
  {
   "cell_type": "markdown",
   "id": "d6ee064a",
   "metadata": {},
   "source": [
    "# Take input from the user"
   ]
  },
  {
   "cell_type": "code",
   "execution_count": null,
   "id": "a769aad5",
   "metadata": {},
   "outputs": [],
   "source": [
    "print(sorted(list(map(int, input().strip().split()))))"
   ]
  }
 ],
 "metadata": {
  "kernelspec": {
   "display_name": "Python 3 (ipykernel)",
   "language": "python",
   "name": "python3"
  },
  "language_info": {
   "codemirror_mode": {
    "name": "ipython",
    "version": 3
   },
   "file_extension": ".py",
   "mimetype": "text/x-python",
   "name": "python",
   "nbconvert_exporter": "python",
   "pygments_lexer": "ipython3",
   "version": "3.9.7"
  }
 },
 "nbformat": 4,
 "nbformat_minor": 5
}
