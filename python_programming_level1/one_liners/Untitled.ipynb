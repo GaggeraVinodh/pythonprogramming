{
 "cells": [
  {
   "cell_type": "code",
   "execution_count": 1,
   "id": "7df8c212",
   "metadata": {},
   "outputs": [
    {
     "name": "stdout",
     "output_type": "stream",
     "text": [
      "Give a sentenceThis python session is pretty interesting\n",
      "interesting pretty is session python This\n"
     ]
    }
   ],
   "source": [
    "print(\" \".join(list(reversed(input(\"Give a sentence\").split()))))"
   ]
  },
  {
   "cell_type": "code",
   "execution_count": 21,
   "id": "5f5d8c82",
   "metadata": {},
   "outputs": [
    {
     "name": "stdout",
     "output_type": "stream",
     "text": [
      "3 2 4 2 5 2 5 3 5 4 6 2 7 2 7 3 7 4 7 5 7 6 8 2 9 2 9 3 "
     ]
    }
   ],
   "source": [
    "# print all the primes from 1 to 200\n",
    "for num in range(2,10):\n",
    "    flag = 0\n",
    "    for val in range(2,num):\n",
    "        print(num,val,end=\" \")\n",
    "        if num % val == 0:\n",
    "            flag = 1\n",
    "            break\n",
    "    #if flag == 0:\n",
    "        #print(num,end=\" \")"
   ]
  },
  {
   "cell_type": "code",
   "execution_count": 6,
   "id": "abb79741",
   "metadata": {},
   "outputs": [
    {
     "name": "stdout",
     "output_type": "stream",
     "text": [
      "2 3 5 7 11 13 17 19 23 29 31 37 41 43 47 53 59 61 67 71 73 79 83 89 97 101 103 107 109 113 127 131 137 139 149 151 157 163 167 173 179 181 191 193 197 199 "
     ]
    }
   ],
   "source": [
    "# print all the primes from 1 to 200\n",
    "for num in range(2,200):\n",
    "    for val in range(2,num):\n",
    "        if num % val == 0:\n",
    "            break\n",
    "    else:\n",
    "        print(num,end=\" \")"
   ]
  },
  {
   "cell_type": "code",
   "execution_count": 26,
   "id": "dace057a",
   "metadata": {},
   "outputs": [
    {
     "name": "stdout",
     "output_type": "stream",
     "text": [
      "[2, 3, 5, 7, 11, 13, 17, 19, 23, 29, 31, 37, 41, 43, 47, 53, 59, 61, 67, 71, 73, 79, 83, 89, 97, 101, 103, 107, 109, 113, 127, 131, 137, 139, 149, 151, 157, 163, 167, 173, 179, 181, 191, 193, 197, 199]\n"
     ]
    }
   ],
   "source": [
    "print([x for x in range(2,200) if all(x % y !=0 for y in range(2,x))])"
   ]
  },
  {
   "cell_type": "code",
   "execution_count": null,
   "id": "2aae3ddd",
   "metadata": {},
   "outputs": [],
   "source": []
  }
 ],
 "metadata": {
  "kernelspec": {
   "display_name": "Python 3 (ipykernel)",
   "language": "python",
   "name": "python3"
  },
  "language_info": {
   "codemirror_mode": {
    "name": "ipython",
    "version": 3
   },
   "file_extension": ".py",
   "mimetype": "text/x-python",
   "name": "python",
   "nbconvert_exporter": "python",
   "pygments_lexer": "ipython3",
   "version": "3.9.13"
  }
 },
 "nbformat": 4,
 "nbformat_minor": 5
}
