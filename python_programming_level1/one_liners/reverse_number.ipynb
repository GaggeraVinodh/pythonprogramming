{
 "cells": [
  {
   "cell_type": "markdown",
   "id": "a5cc5725",
   "metadata": {},
   "source": [
    "# reverse the given number"
   ]
  },
  {
   "cell_type": "code",
   "execution_count": 2,
   "id": "25a54c79",
   "metadata": {},
   "outputs": [
    {
     "name": "stdout",
     "output_type": "stream",
     "text": [
      "4568\n",
      "8654\n"
     ]
    }
   ],
   "source": [
    "num = input()\n",
    "print(num[::-1])"
   ]
  },
  {
   "cell_type": "code",
   "execution_count": null,
   "id": "047adb92",
   "metadata": {},
   "outputs": [],
   "source": []
  }
 ],
 "metadata": {
  "kernelspec": {
   "display_name": "Python 3 (ipykernel)",
   "language": "python",
   "name": "python3"
  },
  "language_info": {
   "codemirror_mode": {
    "name": "ipython",
    "version": 3
   },
   "file_extension": ".py",
   "mimetype": "text/x-python",
   "name": "python",
   "nbconvert_exporter": "python",
   "pygments_lexer": "ipython3",
   "version": "3.9.13"
  }
 },
 "nbformat": 4,
 "nbformat_minor": 5
}
