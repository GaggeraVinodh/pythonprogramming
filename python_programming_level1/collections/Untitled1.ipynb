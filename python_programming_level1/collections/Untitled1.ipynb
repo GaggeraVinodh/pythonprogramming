{
 "cells": [
  {
   "cell_type": "code",
   "execution_count": 1,
   "id": "e6ad3c14",
   "metadata": {},
   "outputs": [
    {
     "ename": "RuntimeError",
     "evalue": "Deletion not allowed",
     "output_type": "error",
     "traceback": [
      "\u001b[1;31m---------------------------------------------------------------------------\u001b[0m",
      "\u001b[1;31mRuntimeError\u001b[0m                              Traceback (most recent call last)",
      "\u001b[1;32m~\\AppData\\Local\\Temp/ipykernel_14156/2719706646.py\u001b[0m in \u001b[0;36m<module>\u001b[1;34m\u001b[0m\n\u001b[0;32m     30\u001b[0m \t'c': 3})\n\u001b[0;32m     31\u001b[0m \u001b[1;33m\u001b[0m\u001b[0m\n\u001b[1;32m---> 32\u001b[1;33m \u001b[0md\u001b[0m\u001b[1;33m.\u001b[0m\u001b[0mpop\u001b[0m\u001b[1;33m(\u001b[0m\u001b[1;36m1\u001b[0m\u001b[1;33m)\u001b[0m\u001b[1;33m\u001b[0m\u001b[1;33m\u001b[0m\u001b[0m\n\u001b[0m",
      "\u001b[1;32m~\\AppData\\Local\\Temp/ipykernel_14156/2719706646.py\u001b[0m in \u001b[0;36mpop\u001b[1;34m(self, s)\u001b[0m\n\u001b[0;32m     18\u001b[0m         \u001b[1;31m# dictionary\u001b[0m\u001b[1;33m\u001b[0m\u001b[1;33m\u001b[0m\u001b[0m\n\u001b[0;32m     19\u001b[0m         \u001b[1;32mdef\u001b[0m \u001b[0mpop\u001b[0m\u001b[1;33m(\u001b[0m\u001b[0mself\u001b[0m\u001b[1;33m,\u001b[0m \u001b[0ms\u001b[0m \u001b[1;33m=\u001b[0m \u001b[1;32mNone\u001b[0m\u001b[1;33m)\u001b[0m\u001b[1;33m:\u001b[0m\u001b[1;33m\u001b[0m\u001b[1;33m\u001b[0m\u001b[0m\n\u001b[1;32m---> 20\u001b[1;33m                 \u001b[1;32mraise\u001b[0m \u001b[0mRuntimeError\u001b[0m\u001b[1;33m(\u001b[0m\u001b[1;34m\"Deletion not allowed\"\u001b[0m\u001b[1;33m)\u001b[0m\u001b[1;33m\u001b[0m\u001b[1;33m\u001b[0m\u001b[0m\n\u001b[0m\u001b[0;32m     21\u001b[0m \u001b[1;33m\u001b[0m\u001b[0m\n\u001b[0;32m     22\u001b[0m         \u001b[1;31m# Function to stop popitem\u001b[0m\u001b[1;33m\u001b[0m\u001b[1;33m\u001b[0m\u001b[0m\n",
      "\u001b[1;31mRuntimeError\u001b[0m: Deletion not allowed"
     ]
    }
   ],
   "source": [
    "# Python program to demonstrate\n",
    "# userdict\n",
    "\t\n",
    "\t\n",
    "from collections import UserDict\n",
    "\t\n",
    "\t\n",
    "# Creating a Dictionary where\n",
    "# deletion is not allowed\n",
    "class MyDict(UserDict):\n",
    "\t\t\n",
    "\t# Function to stop deletion\n",
    "\t# from dictionary\n",
    "\tdef __del__(self):\n",
    "\t\traise RuntimeError(\"Deletion not allowed\")\n",
    "\t\t\t\n",
    "\t# Function to stop pop from\n",
    "\t# dictionary\n",
    "\tdef pop(self, s = None):\n",
    "\t\traise RuntimeError(\"Deletion not allowed\")\n",
    "\t\t\t\n",
    "\t# Function to stop popitem\n",
    "\t# from Dictionary\n",
    "\tdef popitem(self, s = None):\n",
    "\t\traise RuntimeError(\"Deletion not allowed\")\n",
    "\t\t\n",
    "# Driver's code\n",
    "d = MyDict({'a':1,\n",
    "\t'b': 2,\n",
    "\t'c': 3})\n",
    "\t\n",
    "d.pop(1)\n"
   ]
  },
  {
   "cell_type": "code",
   "execution_count": null,
   "id": "3d323b24",
   "metadata": {},
   "outputs": [],
   "source": []
  }
 ],
 "metadata": {
  "kernelspec": {
   "display_name": "Python 3 (ipykernel)",
   "language": "python",
   "name": "python3"
  },
  "language_info": {
   "codemirror_mode": {
    "name": "ipython",
    "version": 3
   },
   "file_extension": ".py",
   "mimetype": "text/x-python",
   "name": "python",
   "nbconvert_exporter": "python",
   "pygments_lexer": "ipython3",
   "version": "3.9.7"
  }
 },
 "nbformat": 4,
 "nbformat_minor": 5
}
