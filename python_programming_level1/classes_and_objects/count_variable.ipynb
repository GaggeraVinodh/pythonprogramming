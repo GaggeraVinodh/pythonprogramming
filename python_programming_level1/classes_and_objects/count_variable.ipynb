{
 "cells": [
  {
   "cell_type": "code",
   "execution_count": 7,
   "id": "fd91b247",
   "metadata": {},
   "outputs": [
    {
     "name": "stdout",
     "output_type": "stream",
     "text": [
      "43\n",
      "43\n",
      "67\n",
      "43\n"
     ]
    }
   ],
   "source": [
    "class newexample:\n",
    "    newvar = 43 # Access through class\n",
    "\n",
    "print (newexample.newvar) # Gives 43\n",
    "\n",
    "#Access through an instance\n",
    "instance = newexample()\n",
    "print(instance.newvar) #Again gives 43\n",
    "\n",
    "#Change within an instance\n",
    "instance.newvar = 67\n",
    "print(instance.newvar) # Gives 67\n",
    "print(newexample.newvar) #Gives 43"
   ]
  },
  {
   "cell_type": "code",
   "execution_count": 1,
   "id": "3e46d04b",
   "metadata": {},
   "outputs": [
    {
     "name": "stdout",
     "output_type": "stream",
     "text": [
      "1\n"
     ]
    },
    {
     "ename": "AttributeError",
     "evalue": "type object 'newexample' has no attribute 'printer_count'",
     "output_type": "error",
     "traceback": [
      "\u001b[1;31m---------------------------------------------------------------------------\u001b[0m",
      "\u001b[1;31mAttributeError\u001b[0m                            Traceback (most recent call last)",
      "\u001b[1;32m~\\AppData\\Local\\Temp\\ipykernel_3688\\2363002162.py\u001b[0m in \u001b[0;36m<module>\u001b[1;34m\u001b[0m\n\u001b[0;32m     11\u001b[0m \u001b[1;33m\u001b[0m\u001b[0m\n\u001b[0;32m     12\u001b[0m \u001b[1;31m#Access through an instance\u001b[0m\u001b[1;33m\u001b[0m\u001b[1;33m\u001b[0m\u001b[0m\n\u001b[1;32m---> 13\u001b[1;33m \u001b[0mcheck\u001b[0m \u001b[1;33m=\u001b[0m \u001b[0mnewexample\u001b[0m\u001b[1;33m.\u001b[0m\u001b[0mcheck_count\u001b[0m\u001b[1;33m(\u001b[0m\u001b[1;33m)\u001b[0m\u001b[1;33m\u001b[0m\u001b[1;33m\u001b[0m\u001b[0m\n\u001b[0m\u001b[0;32m     14\u001b[0m \u001b[1;32mif\u001b[0m \u001b[0mcheck\u001b[0m\u001b[1;33m:\u001b[0m\u001b[1;33m\u001b[0m\u001b[1;33m\u001b[0m\u001b[0m\n\u001b[0;32m     15\u001b[0m     \u001b[0minstance\u001b[0m \u001b[1;33m=\u001b[0m \u001b[0mnewexample\u001b[0m\u001b[1;33m(\u001b[0m\u001b[1;33m)\u001b[0m\u001b[1;33m\u001b[0m\u001b[1;33m\u001b[0m\u001b[0m\n",
      "\u001b[1;32m~\\AppData\\Local\\Temp\\ipykernel_3688\\2363002162.py\u001b[0m in \u001b[0;36mcheck_count\u001b[1;34m()\u001b[0m\n\u001b[0;32m      5\u001b[0m     \u001b[1;32mdef\u001b[0m \u001b[0mcheck_count\u001b[0m\u001b[1;33m(\u001b[0m\u001b[1;33m)\u001b[0m\u001b[1;33m:\u001b[0m\u001b[1;33m\u001b[0m\u001b[1;33m\u001b[0m\u001b[0m\n\u001b[0;32m      6\u001b[0m         \u001b[0mprint\u001b[0m\u001b[1;33m(\u001b[0m\u001b[0mnewexample\u001b[0m\u001b[1;33m.\u001b[0m\u001b[0mprintercount\u001b[0m\u001b[1;33m)\u001b[0m\u001b[1;33m\u001b[0m\u001b[1;33m\u001b[0m\u001b[0m\n\u001b[1;32m----> 7\u001b[1;33m         \u001b[1;32mif\u001b[0m \u001b[0mnewexample\u001b[0m\u001b[1;33m.\u001b[0m\u001b[0mprinter_count\u001b[0m \u001b[1;33m<\u001b[0m \u001b[1;36m3\u001b[0m\u001b[1;33m:\u001b[0m\u001b[1;33m\u001b[0m\u001b[1;33m\u001b[0m\u001b[0m\n\u001b[0m\u001b[0;32m      8\u001b[0m             \u001b[1;32mreturn\u001b[0m \u001b[1;36m1\u001b[0m\u001b[1;33m\u001b[0m\u001b[1;33m\u001b[0m\u001b[0m\n\u001b[0;32m      9\u001b[0m         \u001b[1;32melse\u001b[0m\u001b[1;33m:\u001b[0m\u001b[1;33m\u001b[0m\u001b[1;33m\u001b[0m\u001b[0m\n",
      "\u001b[1;31mAttributeError\u001b[0m: type object 'newexample' has no attribute 'printer_count'"
     ]
    }
   ],
   "source": [
    "class newexample:\n",
    "    printercount = 1 # Access through class\n",
    "    \n",
    "    @staticmethod\n",
    "    def check_count():\n",
    "        print(newexample.printercount)\n",
    "        if newexample.printer_count < 3:\n",
    "            return 1\n",
    "        else:\n",
    "            return 0\n",
    "\n",
    "#Access through an instance\n",
    "check = newexample.check_count()\n",
    "if check:\n",
    "    instance = newexample()\n",
    "    newexample.printercount = newexample.printercount + 1\n",
    "    print(\"instance created\")\n",
    "    \n",
    "if newexample.check_count:\n",
    "    instance = newexample()\n",
    "    newexample.printercount = newexample.printercount + 1\n",
    "    print(\"instance created\")\n",
    "    \n",
    "if newexample.check_count:\n",
    "    instance = newexample()\n",
    "    newexample.printercount = newexample.printercount + 1\n",
    "    print(\"instance created\")\n",
    "    \n",
    "if newexample.check_count:\n",
    "    print(newexample.check_count)\n",
    "    instance = newexample()\n",
    "    newexample.printercount = newexample.printercount + 1\n",
    "    print(\"instance created\")\n",
    "    \n",
    "if newexample.check_count:\n",
    "    instance = newexample()\n",
    "    newexample.printercount = newexample.printercount + 1\n",
    "    print(\"instance created\")\n"
   ]
  },
  {
   "cell_type": "code",
   "execution_count": null,
   "id": "3b36ef57",
   "metadata": {},
   "outputs": [],
   "source": []
  }
 ],
 "metadata": {
  "kernelspec": {
   "display_name": "Python 3 (ipykernel)",
   "language": "python",
   "name": "python3"
  },
  "language_info": {
   "codemirror_mode": {
    "name": "ipython",
    "version": 3
   },
   "file_extension": ".py",
   "mimetype": "text/x-python",
   "name": "python",
   "nbconvert_exporter": "python",
   "pygments_lexer": "ipython3",
   "version": "3.9.13"
  }
 },
 "nbformat": 4,
 "nbformat_minor": 5
}
