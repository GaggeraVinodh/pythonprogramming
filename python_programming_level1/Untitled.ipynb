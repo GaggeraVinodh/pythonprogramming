{
 "cells": [
  {
   "cell_type": "code",
   "execution_count": 4,
   "id": "7927f642",
   "metadata": {},
   "outputs": [
    {
     "name": "stdout",
     "output_type": "stream",
     "text": [
      "[0, 1, 2, 3, 4, 5, 6, 7, 8, 9]\n"
     ]
    }
   ],
   "source": [
    "newlist = [x for x in range(10)]\n",
    "print(newlist)\n",
    "\n",
    "# list comprehension"
   ]
  },
  {
   "cell_type": "code",
   "execution_count": 5,
   "id": "ce9b0a8e",
   "metadata": {},
   "outputs": [
    {
     "name": "stdout",
     "output_type": "stream",
     "text": [
      "[1, 3, 5, 7, 9]\n"
     ]
    }
   ],
   "source": [
    "print([x for x in range(1,10,2)])"
   ]
  },
  {
   "cell_type": "code",
   "execution_count": 6,
   "id": "866bd51d",
   "metadata": {},
   "outputs": [
    {
     "name": "stdout",
     "output_type": "stream",
     "text": [
      "[1, 3, 5, 7, 9]\n"
     ]
    }
   ],
   "source": [
    "print([x for x in range(1,10) if x % 2 != 0])"
   ]
  },
  {
   "cell_type": "code",
   "execution_count": 10,
   "id": "f218ccfc",
   "metadata": {},
   "outputs": [
    {
     "name": "stdout",
     "output_type": "stream",
     "text": [
      "{1: 1, 3: 9, 5: 25, 7: 49, 9: 81}\n"
     ]
    }
   ],
   "source": [
    "print({x:x ** 2 for x in range(1,10) if x % 2 != 0})"
   ]
  },
  {
   "cell_type": "code",
   "execution_count": 11,
   "id": "09951c0e",
   "metadata": {},
   "outputs": [
    {
     "name": "stdout",
     "output_type": "stream",
     "text": [
      "{1, 9, 81, 49, 25}\n"
     ]
    }
   ],
   "source": [
    "print({x*x for x in range(1,10) if x % 2 != 0})"
   ]
  },
  {
   "cell_type": "code",
   "execution_count": 2,
   "id": "93e487f7",
   "metadata": {},
   "outputs": [
    {
     "name": "stdout",
     "output_type": "stream",
     "text": [
      "[0, 1, 2, 3, 4]\n"
     ]
    }
   ],
   "source": [
    "newlist = [0,1,2,3,4]\n",
    "print(newlist)"
   ]
  },
  {
   "cell_type": "code",
   "execution_count": null,
   "id": "78781913",
   "metadata": {},
   "outputs": [],
   "source": [
    "only one for loop\n",
    "one for loop and one if loop\n",
    "two for loops \n",
    "two for loops and two if loops\n",
    "two for loops and  one if loop"
   ]
  },
  {
   "cell_type": "code",
   "execution_count": null,
   "id": "3f21f409",
   "metadata": {},
   "outputs": [],
   "source": [
    "Can you print the prime numbers using list comprehension and a built in function ?"
   ]
  }
 ],
 "metadata": {
  "kernelspec": {
   "display_name": "Python 3 (ipykernel)",
   "language": "python",
   "name": "python3"
  },
  "language_info": {
   "codemirror_mode": {
    "name": "ipython",
    "version": 3
   },
   "file_extension": ".py",
   "mimetype": "text/x-python",
   "name": "python",
   "nbconvert_exporter": "python",
   "pygments_lexer": "ipython3",
   "version": "3.9.7"
  }
 },
 "nbformat": 4,
 "nbformat_minor": 5
}
