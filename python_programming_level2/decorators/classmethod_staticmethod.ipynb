{
 "cells": [
  {
   "cell_type": "code",
   "execution_count": null,
   "id": "47e46e49",
   "metadata": {},
   "outputs": [],
   "source": [
    "class DecoratorTest(object):\n",
    "    \"\"\"\n",
    "    Test regular method vs @classmethod vs @staticmethod\n",
    "    \"\"\"\n",
    "\n",
    "    def __init__(self):\n",
    "        \"\"\"Constructor\"\"\"\n",
    "        print(\"running constructor\")\n",
    "        pass\n",
    "\n",
    "    def doubler(self, x):\n",
    "        \"\"\"\"\"\"\n",
    "        print(\"running double: %s\" % self)\n",
    "        return x*2\n",
    "\n",
    "    @classmethod\n",
    "    def class_tripler(myclass, x):\n",
    "        \"\"\"\"\"\"\n",
    "        print(\"running tripler: %s\" % myclass)\n",
    "        return x*3\n",
    "\n",
    "    @staticmethod\n",
    "    def static_quad(x):\n",
    "        \"\"\"\"\"\"\n",
    "        print(\"running quad\")\n",
    "        return x*4\n",
    "\n",
    "decor = DecoratorTest()\n",
    "print(decor.doubler(5))\n",
    "print(decor.class_tripler(3))\n",
    "print(DecoratorTest.class_tripler(3))\n",
    "print(DecoratorTest.static_quad(2))\n",
    "print(decor.static_quad(3))\n",
    "\n",
    "#print(decor.doubler)\n",
    "#print(DecoratorTest.class_tripler)\n",
    "#print(DecoratorTest.static_quad)"
   ]
  },
  {
   "cell_type": "code",
   "execution_count": null,
   "id": "05b725ad",
   "metadata": {},
   "outputs": [],
   "source": [
    "help(DecoratorTest)"
   ]
  },
  {
   "cell_type": "code",
   "execution_count": null,
   "id": "17027d99",
   "metadata": {},
   "outputs": [],
   "source": [
    "print(DecoratorTest.__doc__)"
   ]
  },
  {
   "cell_type": "markdown",
   "id": "172b2741",
   "metadata": {},
   "source": [
    "# instance method, class method and static method"
   ]
  },
  {
   "cell_type": "code",
   "execution_count": 37,
   "id": "8d4342b0",
   "metadata": {},
   "outputs": [],
   "source": [
    "class MyClass:\n",
    "    def newmethod(self):\n",
    "        return 'instance method called', self\n",
    "\n",
    "    @classmethod\n",
    "    def newclassmethod(cls):\n",
    "        return 'class method called', cls\n",
    "\n",
    "    @staticmethod\n",
    "    def newstaticmethod():\n",
    "        return 'static method called'"
   ]
  },
  {
   "cell_type": "code",
   "execution_count": 38,
   "id": "054c01a3",
   "metadata": {},
   "outputs": [
    {
     "name": "stdout",
     "output_type": "stream",
     "text": [
      "('class method called', <class '__main__.MyClass'>)\n",
      "static method called\n",
      "('instance method called', <__main__.MyClass object at 0x0000014457DD3B80>)\n"
     ]
    }
   ],
   "source": [
    "obj = MyClass()\n",
    "print(obj.newclassmethod())\n",
    "print(obj.newstaticmethod())\n",
    "print(obj.newmethod())"
   ]
  },
  {
   "cell_type": "code",
   "execution_count": 39,
   "id": "7953f693",
   "metadata": {},
   "outputs": [
    {
     "name": "stdout",
     "output_type": "stream",
     "text": [
      "('class method called', <class '__main__.MyClass'>)\n",
      "static method called\n"
     ]
    },
    {
     "ename": "TypeError",
     "evalue": "newmethod() missing 1 required positional argument: 'self'",
     "output_type": "error",
     "traceback": [
      "\u001b[1;31m---------------------------------------------------------------------------\u001b[0m",
      "\u001b[1;31mTypeError\u001b[0m                                 Traceback (most recent call last)",
      "\u001b[1;32m~\\AppData\\Local\\Temp\\ipykernel_7296\\2617896367.py\u001b[0m in \u001b[0;36m<module>\u001b[1;34m\u001b[0m\n\u001b[0;32m      2\u001b[0m \u001b[0mprint\u001b[0m\u001b[1;33m(\u001b[0m\u001b[0mMyClass\u001b[0m\u001b[1;33m.\u001b[0m\u001b[0mnewclassmethod\u001b[0m\u001b[1;33m(\u001b[0m\u001b[1;33m)\u001b[0m\u001b[1;33m)\u001b[0m\u001b[1;33m\u001b[0m\u001b[1;33m\u001b[0m\u001b[0m\n\u001b[0;32m      3\u001b[0m \u001b[0mprint\u001b[0m\u001b[1;33m(\u001b[0m\u001b[0mMyClass\u001b[0m\u001b[1;33m.\u001b[0m\u001b[0mnewstaticmethod\u001b[0m\u001b[1;33m(\u001b[0m\u001b[1;33m)\u001b[0m\u001b[1;33m)\u001b[0m\u001b[1;33m\u001b[0m\u001b[1;33m\u001b[0m\u001b[0m\n\u001b[1;32m----> 4\u001b[1;33m \u001b[0mprint\u001b[0m\u001b[1;33m(\u001b[0m\u001b[0mMyClass\u001b[0m\u001b[1;33m.\u001b[0m\u001b[0mnewmethod\u001b[0m\u001b[1;33m(\u001b[0m\u001b[1;33m)\u001b[0m\u001b[1;33m)\u001b[0m\u001b[1;33m\u001b[0m\u001b[1;33m\u001b[0m\u001b[0m\n\u001b[0m",
      "\u001b[1;31mTypeError\u001b[0m: newmethod() missing 1 required positional argument: 'self'"
     ]
    }
   ],
   "source": [
    "obj = MyClass()\n",
    "print(MyClass.newclassmethod())\n",
    "print(MyClass.newstaticmethod())\n",
    "print(MyClass.newmethod())"
   ]
  },
  {
   "cell_type": "markdown",
   "id": "23b3c3ed",
   "metadata": {},
   "source": [
    "# pizza class example"
   ]
  },
  {
   "cell_type": "code",
   "execution_count": 44,
   "id": "3211a471",
   "metadata": {},
   "outputs": [
    {
     "name": "stdout",
     "output_type": "stream",
     "text": [
      "Pizza(['cheese', 'tomatoes'])\n"
     ]
    }
   ],
   "source": [
    "class Pizza:\n",
    "    def __init__(self, ingredients):\n",
    "        self.ingredients = ingredients\n",
    "\n",
    "    def __repr__(self):\n",
    "        return f'Pizza({self.ingredients!r})'\n",
    " \n",
    "print(Pizza(['cheese', 'tomatoes']))"
   ]
  },
  {
   "cell_type": "code",
   "execution_count": 45,
   "id": "a86abe03",
   "metadata": {},
   "outputs": [
    {
     "data": {
      "text/plain": [
       "Pizza(['mozzarella', 'tomatoes'])"
      ]
     },
     "execution_count": 45,
     "metadata": {},
     "output_type": "execute_result"
    }
   ],
   "source": [
    "Pizza(['mozzarella', 'tomatoes'])"
   ]
  },
  {
   "cell_type": "code",
   "execution_count": 46,
   "id": "5732ecd6",
   "metadata": {},
   "outputs": [
    {
     "data": {
      "text/plain": [
       "Pizza(['mozzarella', 'tomatoes', 'ham', 'mushrooms'])"
      ]
     },
     "execution_count": 46,
     "metadata": {},
     "output_type": "execute_result"
    }
   ],
   "source": [
    "Pizza(['mozzarella', 'tomatoes', 'ham', 'mushrooms'])\n"
   ]
  },
  {
   "cell_type": "code",
   "execution_count": 47,
   "id": "6abd8d56",
   "metadata": {},
   "outputs": [
    {
     "data": {
      "text/plain": [
       "Pizza(['mozzarella', 'mozzarella', 'mozzarella', 'mozzarella'])"
      ]
     },
     "execution_count": 47,
     "metadata": {},
     "output_type": "execute_result"
    }
   ],
   "source": [
    "Pizza(['mozzarella'] * 4)"
   ]
  },
  {
   "cell_type": "markdown",
   "id": "40d0e794",
   "metadata": {},
   "source": [
    "# class method usage"
   ]
  },
  {
   "cell_type": "code",
   "execution_count": 9,
   "id": "f35094e0",
   "metadata": {},
   "outputs": [],
   "source": [
    "class Pizza:\n",
    "    def __init__(self, ingredients):\n",
    "        self.ingredients = ingredients\n",
    "\n",
    "    def __repr__(self):\n",
    "        return f'Pizza({self.ingredients!r})'\n",
    "\n",
    "    @classmethod\n",
    "    def margherita(cls):\n",
    "        return cls(['mozzarella', 'tomatoes'])\n",
    "\n",
    "    @classmethod\n",
    "    def prosciutto(cls):\n",
    "        return cls(['mozzarella', 'tomatoes', 'ham'])"
   ]
  },
  {
   "cell_type": "code",
   "execution_count": 10,
   "id": "ebd71d55",
   "metadata": {},
   "outputs": [
    {
     "data": {
      "text/plain": [
       "Pizza(['mozzarella', 'tomatoes', 'ham'])"
      ]
     },
     "execution_count": 10,
     "metadata": {},
     "output_type": "execute_result"
    }
   ],
   "source": [
    "Pizza.margherita()"
   ]
  },
  {
   "cell_type": "code",
   "execution_count": 11,
   "id": "8e500758",
   "metadata": {},
   "outputs": [
    {
     "data": {
      "text/plain": [
       "Pizza(['mozzarella', 'tomatoes', 'ham'])"
      ]
     },
     "execution_count": 11,
     "metadata": {},
     "output_type": "execute_result"
    }
   ],
   "source": [
    "Pizza.prosciutto()"
   ]
  },
  {
   "cell_type": "markdown",
   "id": "dc948063",
   "metadata": {},
   "source": [
    "# static method usage"
   ]
  },
  {
   "cell_type": "code",
   "execution_count": 12,
   "id": "9744dde0",
   "metadata": {},
   "outputs": [],
   "source": [
    "import math\n",
    "\n",
    "class Pizza:\n",
    "    def __init__(self, radius, ingredients):\n",
    "        self.radius = radius\n",
    "        self.ingredients = ingredients\n",
    "\n",
    "    def __repr__(self):\n",
    "        return (f'Pizza({self.radius!r}, '\n",
    "                f'{self.ingredients!r})')\n",
    "\n",
    "    def area(self):\n",
    "        return self.circle_area(self.radius)\n",
    "\n",
    "    @staticmethod\n",
    "    def circle_area(r):\n",
    "        return r ** 2 * math.pi"
   ]
  },
  {
   "cell_type": "code",
   "execution_count": 16,
   "id": "31716575",
   "metadata": {},
   "outputs": [
    {
     "data": {
      "text/plain": [
       "Pizza(4, ['mozzarella', 'tomatoes'])"
      ]
     },
     "execution_count": 16,
     "metadata": {},
     "output_type": "execute_result"
    }
   ],
   "source": [
    "p = Pizza(4, ['mozzarella', 'tomatoes'])\n",
    "p"
   ]
  },
  {
   "cell_type": "code",
   "execution_count": 17,
   "id": "97c47b8f",
   "metadata": {},
   "outputs": [
    {
     "data": {
      "text/plain": [
       "50.26548245743669"
      ]
     },
     "execution_count": 17,
     "metadata": {},
     "output_type": "execute_result"
    }
   ],
   "source": [
    "Pizza(4, ['mozzarella', 'tomatoes'])\n",
    "p.area()"
   ]
  },
  {
   "cell_type": "code",
   "execution_count": 18,
   "id": "8d08c318",
   "metadata": {},
   "outputs": [
    {
     "data": {
      "text/plain": [
       "50.26548245743669"
      ]
     },
     "execution_count": 18,
     "metadata": {},
     "output_type": "execute_result"
    }
   ],
   "source": [
    "Pizza.circle_area(4)"
   ]
  },
  {
   "cell_type": "code",
   "execution_count": 35,
   "id": "f865fb0f",
   "metadata": {},
   "outputs": [
    {
     "ename": "NameError",
     "evalue": "name 'circle_area' is not defined",
     "output_type": "error",
     "traceback": [
      "\u001b[1;31m---------------------------------------------------------------------------\u001b[0m",
      "\u001b[1;31mNameError\u001b[0m                                 Traceback (most recent call last)",
      "\u001b[1;32m~\\AppData\\Local\\Temp\\ipykernel_7296\\2037557012.py\u001b[0m in \u001b[0;36m<module>\u001b[1;34m\u001b[0m\n\u001b[1;32m----> 1\u001b[1;33m \u001b[0mcircle_area\u001b[0m\u001b[1;33m(\u001b[0m\u001b[1;36m5\u001b[0m\u001b[1;33m)\u001b[0m\u001b[1;33m\u001b[0m\u001b[1;33m\u001b[0m\u001b[0m\n\u001b[0m",
      "\u001b[1;31mNameError\u001b[0m: name 'circle_area' is not defined"
     ]
    }
   ],
   "source": [
    "circle_area(5)"
   ]
  },
  {
   "cell_type": "code",
   "execution_count": null,
   "id": "acdece68",
   "metadata": {},
   "outputs": [],
   "source": []
  }
 ],
 "metadata": {
  "kernelspec": {
   "display_name": "Python 3 (ipykernel)",
   "language": "python",
   "name": "python3"
  },
  "language_info": {
   "codemirror_mode": {
    "name": "ipython",
    "version": 3
   },
   "file_extension": ".py",
   "mimetype": "text/x-python",
   "name": "python",
   "nbconvert_exporter": "python",
   "pygments_lexer": "ipython3",
   "version": "3.9.13"
  }
 },
 "nbformat": 4,
 "nbformat_minor": 5
}
