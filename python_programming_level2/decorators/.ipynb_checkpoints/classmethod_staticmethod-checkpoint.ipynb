{
 "cells": [
  {
   "cell_type": "code",
   "execution_count": 23,
   "id": "47e46e49",
   "metadata": {},
   "outputs": [
    {
     "name": "stdout",
     "output_type": "stream",
     "text": [
      "running constructor\n",
      "running double: <__main__.DecoratorTest object at 0x000002226DF042E0>\n",
      "10\n",
      "running tripler: <class '__main__.DecoratorTest'>\n",
      "9\n"
     ]
    }
   ],
   "source": [
    "class DecoratorTest(object):\n",
    "    \"\"\"\n",
    "    Test regular method vs @classmethod vs @staticmethod\n",
    "    \"\"\"\n",
    "\n",
    "    def __init__(self):\n",
    "        \"\"\"Constructor\"\"\"\n",
    "        print(\"running constructor\")\n",
    "        pass\n",
    "\n",
    "    def doubler(self, x):\n",
    "        \"\"\"\"\"\"\n",
    "        print(\"running double: %s\" % self)\n",
    "        return x*2\n",
    "\n",
    "    @classmethod\n",
    "    def class_tripler(myclass, x):\n",
    "        \"\"\"\"\"\"\n",
    "        print(\"running tripler: %s\" % myclass)\n",
    "        return x*3\n",
    "\n",
    "    @staticmethod\n",
    "    def static_quad(x):\n",
    "        \"\"\"\"\"\"\n",
    "        print(\"running quad\")\n",
    "        return x*4\n",
    "\n",
    "decor = DecoratorTest()\n",
    "print(decor.doubler(5))\n",
    "print(decor.class_tripler(3))\n",
    "print(DecoratorTest.class_tripler(3))\n",
    "print(DecoratorTest.static_quad(2))\n",
    "print(decor.static_quad(3))\n",
    "\n",
    "#print(decor.doubler)\n",
    "#print(DecoratorTest.class_tripler)\n",
    "#print(DecoratorTest.static_quad)"
   ]
  },
  {
   "cell_type": "code",
   "execution_count": 14,
   "id": "05b725ad",
   "metadata": {},
   "outputs": [
    {
     "name": "stdout",
     "output_type": "stream",
     "text": [
      "Help on class DecoratorTest in module __main__:\n",
      "\n",
      "class DecoratorTest(builtins.object)\n",
      " |  Test regular method vs @classmethod vs @staticmethod\n",
      " |  \n",
      " |  Methods defined here:\n",
      " |  \n",
      " |  __init__(self)\n",
      " |      Constructor\n",
      " |  \n",
      " |  doubler(object, x)\n",
      " |  \n",
      " |  ----------------------------------------------------------------------\n",
      " |  Class methods defined here:\n",
      " |  \n",
      " |  class_tripler(x) from builtins.type\n",
      " |  \n",
      " |  ----------------------------------------------------------------------\n",
      " |  Static methods defined here:\n",
      " |  \n",
      " |  static_quad(x)\n",
      " |  \n",
      " |  ----------------------------------------------------------------------\n",
      " |  Data descriptors defined here:\n",
      " |  \n",
      " |  __dict__\n",
      " |      dictionary for instance variables (if defined)\n",
      " |  \n",
      " |  __weakref__\n",
      " |      list of weak references to the object (if defined)\n",
      "\n"
     ]
    }
   ],
   "source": [
    "help(DecoratorTest)"
   ]
  },
  {
   "cell_type": "code",
   "execution_count": 15,
   "id": "17027d99",
   "metadata": {},
   "outputs": [
    {
     "name": "stdout",
     "output_type": "stream",
     "text": [
      "\n",
      "    Test regular method vs @classmethod vs @staticmethod\n",
      "    \n"
     ]
    }
   ],
   "source": [
    "print(DecoratorTest.__doc__)"
   ]
  },
  {
   "cell_type": "code",
   "execution_count": null,
   "id": "3211a471",
   "metadata": {},
   "outputs": [],
   "source": []
  }
 ],
 "metadata": {
  "kernelspec": {
   "display_name": "Python 3 (ipykernel)",
   "language": "python",
   "name": "python3"
  },
  "language_info": {
   "codemirror_mode": {
    "name": "ipython",
    "version": 3
   },
   "file_extension": ".py",
   "mimetype": "text/x-python",
   "name": "python",
   "nbconvert_exporter": "python",
   "pygments_lexer": "ipython3",
   "version": "3.9.7"
  }
 },
 "nbformat": 4,
 "nbformat_minor": 5
}
