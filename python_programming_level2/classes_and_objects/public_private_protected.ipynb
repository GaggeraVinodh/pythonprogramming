{
 "cells": [
  {
   "cell_type": "code",
   "execution_count": 26,
   "id": "b16d98c7",
   "metadata": {},
   "outputs": [
    {
     "name": "stdout",
     "output_type": "stream",
     "text": [
      "Hello my name is Vishnu\n",
      "Vishnu 36\n"
     ]
    }
   ],
   "source": [
    "class Person:\n",
    "  def __init__(self, name, age):\n",
    "    self.name = name\n",
    "    self.age = age\n",
    "\n",
    "  def myfunc(self):\n",
    "    print(\"Hello my name is \" + self.name)\n",
    "\n",
    "#print(name)\n",
    "p1 = Person(\"Vishnu\", 36)\n",
    "p1.myfunc()\n",
    "print(p1.name,p1.age)"
   ]
  },
  {
   "cell_type": "code",
   "execution_count": 27,
   "id": "f285142f",
   "metadata": {},
   "outputs": [
    {
     "name": "stdout",
     "output_type": "stream",
     "text": [
      "80\n",
      "50\n",
      "Area:  4000\n",
      "Length:  80\n",
      "Breadth:  50\n"
     ]
    }
   ],
   "source": [
    "class Shape:\n",
    "    # constructor\n",
    "    def __init__(self, length, breadth):\n",
    "        self.length = length\n",
    "        self.breadth = breadth\n",
    "          \n",
    "    # public member function\n",
    "    def displaySides(self):\n",
    "  \n",
    "        # accessing protected data members\n",
    "        print(\"Length: \", self.length)\n",
    "        print(\"Breadth: \", self.breadth)\n",
    "        \n",
    "# derived class\n",
    "class Rectangle(Shape):\n",
    "    \n",
    "    # constructor\n",
    "    def __init__(self, local_length, local_breadth):\n",
    "  \n",
    "        # Calling the constructor of super class\n",
    "        Shape.__init__(self, local_length, local_breadth)\n",
    "          \n",
    "    # public member function\n",
    "    def calculateArea(self):\n",
    "                      \n",
    "        # accessing protected data members of super class\n",
    "        print(\"Area: \", self.length * self.breadth)\n",
    "\n",
    "        \n",
    "#obj= Shape(20,10)\n",
    "#print(obj.length)\n",
    "#print(obj.breadth)\n",
    "#obj.displaySides()\n",
    "#obj.calculateArea()\n",
    "\n",
    "obja = Rectangle(80, 50)\n",
    "print(obja.length)\n",
    "print(obja.breadth)\n",
    "obja.calculateArea() \n",
    "obja.displaySides()\n"
   ]
  },
  {
   "cell_type": "code",
   "execution_count": 30,
   "id": "01b4affa",
   "metadata": {},
   "outputs": [
    {
     "name": "stdout",
     "output_type": "stream",
     "text": [
      "80\n",
      "50\n",
      "Area:  4000\n",
      "Length:  80\n",
      "Breadth:  50\n",
      "Length:  80\n",
      "Breadth:  50\n",
      "Length:  80\n",
      "Breadth:  50\n",
      "Length:  80\n",
      "Breadth:  50\n"
     ]
    }
   ],
   "source": [
    "# program to illustrate protected variables\n",
    "# data members in a class\n",
    "\n",
    "# super class\n",
    "class Shape:\n",
    "      \n",
    "    # constructor\n",
    "    def __init__(self, length, breadth):\n",
    "        self._length = length\n",
    "        self._breadth = breadth\n",
    "          \n",
    "    # public member function\n",
    "    def displaySides(self):\n",
    "        # accessing protected data members\n",
    "        print(\"Length: \", self._length)\n",
    "        print(\"Breadth: \", self._breadth)\n",
    "                  \n",
    "    # protected member function\n",
    "    def _displaySides(self):\n",
    "        # accessing protected data members\n",
    "        print(\"Length: \", self._length)\n",
    "        print(\"Breadth: \", self._breadth)\n",
    "        \n",
    "  \n",
    "# derived class\n",
    "class Rectangle(Shape):\n",
    "  \n",
    "    # constructor\n",
    "    def __init__(self, local_length, local_breadth):\n",
    "        # Calling the constructor of\n",
    "        # Super class\n",
    "        Shape.__init__(self, local_length, local_breadth)\n",
    "          \n",
    "    # public member function\n",
    "    def calculateArea(self):                \n",
    "        # accessing protected data members of super class\n",
    "        print(\"Area: \", self._length * self._breadth)\n",
    "        self._displaySides()\n",
    "        self.displaySides()\n",
    "\n",
    "  \n",
    "        \n",
    "#obj= Shape(20,10)\n",
    "#print(obj.length)\n",
    "#print(obj.breadth)\n",
    "#obj.displaySides()\n",
    "#obj._displaySides()\n",
    "#obj.__displaySides()\n",
    "#obj.calculateArea()\n",
    "\n",
    "obja = Rectangle(80, 50)\n",
    "print(obja._length)\n",
    "print(obja._breadth)\n",
    "obja.calculateArea() \n",
    "obja.displaySides()\n",
    "obja.__displaySides()"
   ]
  },
  {
   "cell_type": "code",
   "execution_count": 33,
   "id": "b514ed2f",
   "metadata": {},
   "outputs": [
    {
     "name": "stdout",
     "output_type": "stream",
     "text": [
      "Length:  20\n",
      "Breadth:  10\n"
     ]
    }
   ],
   "source": [
    "# program to illustrate private variables\n",
    "# data members in a class\n",
    "\n",
    "# super class\n",
    "class Shape:\n",
    "      \n",
    "    # constructor\n",
    "    def __init__(self, length, breadth):\n",
    "        self.__length = length\n",
    "        self.__breadth = breadth\n",
    "          \n",
    "    # public member function\n",
    "    def displaySides(self):\n",
    "        # accessing protected data members\n",
    "        print(\"Length: \", self.__length)\n",
    "        print(\"Breadth: \", self.__breadth)\n",
    "        \n",
    "    # private member function\n",
    "    def __displaySides(self):\n",
    "        # accessing protected data members\n",
    "        print(\"Length: \", self._length)\n",
    "        print(\"Breadth: \", self._breadth)\n",
    "        \n",
    "  \n",
    "# derived class\n",
    "class Rectangle(Shape):\n",
    "  \n",
    "    # constructor\n",
    "    def __init__(self, length, breadth):\n",
    "        # Calling the constructor of\n",
    "        # Super class\n",
    "        Shape.__init__(self, length, breadth)\n",
    "          \n",
    "    # public member function\n",
    "    def calculateArea(self):                \n",
    "        #accessing protected data members of super class\n",
    "        print(\"Area: \", self.__length * self.__breadth)\n",
    "\n",
    "obj= Shape(20,10)\n",
    "#print(obj.__length)\n",
    "#print(obj.__breadth)\n",
    "obj.displaySides()\n",
    "#obj.__displaySides()\n",
    "#obj.calculateArea()\n",
    "\n",
    "#obja = Rectangle(80, 50)\n",
    "#print(obja.__length)\n",
    "#print(obja.__breadth)\n",
    "#obja.calculateArea() \n",
    "#obja.displaySides()"
   ]
  },
  {
   "cell_type": "code",
   "execution_count": null,
   "id": "d8f87653",
   "metadata": {},
   "outputs": [],
   "source": []
  }
 ],
 "metadata": {
  "kernelspec": {
   "display_name": "Python 3 (ipykernel)",
   "language": "python",
   "name": "python3"
  },
  "language_info": {
   "codemirror_mode": {
    "name": "ipython",
    "version": 3
   },
   "file_extension": ".py",
   "mimetype": "text/x-python",
   "name": "python",
   "nbconvert_exporter": "python",
   "pygments_lexer": "ipython3",
   "version": "3.10.9"
  }
 },
 "nbformat": 4,
 "nbformat_minor": 5
}
